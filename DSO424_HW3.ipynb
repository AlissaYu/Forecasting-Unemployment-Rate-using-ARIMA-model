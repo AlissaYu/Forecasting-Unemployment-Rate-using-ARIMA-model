{
  "nbformat": 4,
  "nbformat_minor": 0,
  "metadata": {
    "colab": {
      "provenance": []
    },
    "kernelspec": {
      "name": "python3",
      "display_name": "Python 3"
    },
    "language_info": {
      "name": "python"
    }
  },
  "cells": [
    {
      "cell_type": "markdown",
      "source": [
        "Evaluate the Statement:"
      ],
      "metadata": {
        "id": "vk8WZ3-Y_zl7"
      }
    },
    {
      "cell_type": "markdown",
      "source": [
        "1. If an ARIMA model is adequate (properly built), it has residual autocorrelations  that are all equal to zero.\n"
      ],
      "metadata": {
        "id": "c-d7q8Lp_279"
      }
    },
    {
      "cell_type": "code",
      "source": [
        "# False: The ARIMA model is adequate as long as the lags of residual autocorrelations are not significant (within confidential interval). They don't need to be zero."
      ],
      "metadata": {
        "id": "yRZBH0_0Av2N"
      },
      "execution_count": 594,
      "outputs": []
    },
    {
      "cell_type": "markdown",
      "source": [
        "2. When would you use non-seasonal differencing and when would you use seasonal differencing? "
      ],
      "metadata": {
        "id": "X5nsulJT_5Px"
      }
    },
    {
      "cell_type": "code",
      "source": [
        "# Non-seasonal differencing removes trend and random walk type of non-stationarity (unit root), \n",
        "# Seasonal differencing removes seasonal trend and seasonal random walk type of non-stationarity (seasonal unit root process). \n",
        "# If the data has a strong and consistent seasonal pattern (monthly or quarterly or by 4 seasons), we use one order of seasonal differencing.\n",
        "# If the data has no strong seasonal pattern (like annual data with only potential trends), we use non-seasonal differencing."
      ],
      "metadata": {
        "id": "B74qeTX94XCH"
      },
      "execution_count": 595,
      "outputs": []
    },
    {
      "cell_type": "markdown",
      "source": [
        "3. For a sample of 100 observations of random data, calculate a 95% confidence interval for autocorrelation coefficient at any lag. "
      ],
      "metadata": {
        "id": "cGWYvcza_72j"
      }
    },
    {
      "cell_type": "code",
      "source": [
        "# Ho: kth lag population correlation = corr(y(t),y(t-k)) = 0\n",
        "# Ha: kth lag population correlation = corr(y(t),y(t-k)) ≠ 0\n",
        "# If the Ho is true, kth lag sample correlation follows approximately Normal distribution with mean 0 and variance 1/N, where N is the sample size. \n",
        "# By definition Confidence interval = sample correlation coefficient ∓ Marging of error, where\n",
        "# Margin of error = z𝝰/2 * Standard error/deviation of sample correlation = z𝝰/2 * 1/sqrt(N)\n",
        "# Since the data is random, I will place the interval around 0.\n",
        "# 𝝰 = 5% --> 𝝰/2 = 2.5%\n",
        "# z𝝰/2 = 2\n",
        "# 95% confidence interval = Margin of error = ∓z𝝰/2* 1/sqrt(N) = ∓2*1/sqrt(100) = ∓2/10 = ∓0.2"
      ],
      "metadata": {
        "id": "n1nnshGU2e3F"
      },
      "execution_count": 596,
      "outputs": []
    },
    {
      "cell_type": "markdown",
      "source": [
        "4. If all the autocorrelation coefficients are within their individual 95% confidence intervals and they show no particular pattern, what conclusion about the process can be drawn? "
      ],
      "metadata": {
        "id": "TewCwF_2_9wk"
      }
    },
    {
      "cell_type": "code",
      "source": [
        "# If autocorrelations equal zero, this implies that the residuals are white noise\n",
        "#  As mentioned in the Q &A, \"no correlation = no predictable pattern is present in data and there is no need to build a model for that data\"  \n",
        "# When we build models we would like the residuals aswhite noise. \n",
        "# If the residuals are white noise process that implies that out model captured all predictable patterns and whatever is left is noise. "
      ],
      "metadata": {
        "id": "ncE32b516SpL"
      },
      "execution_count": 597,
      "outputs": []
    },
    {
      "cell_type": "markdown",
      "source": [
        "5. A process is observed quarterly. If lag 4,8 and 12 autocorrelations r4(=correlation(Yt,Yt-4)), r8, and r12 are significantly different from zero, what conclusion can be drawn? "
      ],
      "metadata": {
        "id": "cs1B2l8T__j2"
      }
    },
    {
      "cell_type": "code",
      "source": [
        "# We can conclude that the seasonality is 4 periods, and thus we should further perform seasonal differencing to make data stationary before modeling"
      ],
      "metadata": {
        "id": "W8Vn_CYo6Y_3"
      },
      "execution_count": 598,
      "outputs": []
    },
    {
      "cell_type": "markdown",
      "source": [
        "6. Suppose the following time series model has been fit to historical data and found to be an adequate model. \n",
        "Yt=35+ εt+ .25εt−1− .30εt−2\n",
        "The first four observations are Y1=32.5, Y2=36.6, Y3=33.3, and  Y4=31.9. Assuming Y0=35 and ε0=0, calculate forecasts for periods 5, 6, and 7 if period 4 is the forecast origin. \n"
      ],
      "metadata": {
        "id": "pJ0SSDJsAEXu"
      }
    },
    {
      "cell_type": "code",
      "source": [
        "# Y1 = 35+ε1 =32.5\n",
        "# --> ε1 = -2.5\n",
        "# Y2 = 35+ε2 + 0.25ε1 =36.6\n",
        "# --> ε2 = 2.225\n",
        "# Y3 = 35+ε3 + 0.25ε2 - 0.3ε1 =33.3\n",
        "# --> ε3 = -3.00625\n",
        "# Y4 = 35+ε4 + 0.25ε3 - 0.3ε2 =31.9\n",
        "# --> ε4 = -1.68\n",
        "# Y5 = 35+ε5 + 0.25ε4 - 0.3ε3 =35 + 0.25*(-1.68) - 0.3*(-3.00625)= 35.48\n",
        "# Y6 = 35+ε6 + 0.25ε5 - 0.3ε4 =35 - 0.3*(-1.68)= 35.504\n",
        "# Y7 = 35"
      ],
      "metadata": {
        "id": "zAEJys7SDRx7"
      },
      "execution_count": 599,
      "outputs": []
    },
    {
      "cell_type": "markdown",
      "source": [
        "7. Given the graphs of three time series and their corresponding autocorrelations and partial autocorrelations, tentatively identify an ARIMA model from each triplet of graphs: \n"
      ],
      "metadata": {
        "id": "UoX9ujjNANwP"
      }
    },
    {
      "cell_type": "code",
      "source": [
        "# M1 = ARIMA(0,1,2)\n",
        "# M2 = ARIMA(0,0,1)\n",
        "# M3 = ARIMA(0,0,2)"
      ],
      "metadata": {
        "id": "5bBx23bgIX-c"
      },
      "execution_count": 600,
      "outputs": []
    },
    {
      "cell_type": "code",
      "source": [
        "# ------------------------------------------------------------------------------------------------------------------------------------------------------------------------------------------------"
      ],
      "metadata": {
        "id": "lc--52AKzrNR"
      },
      "execution_count": 601,
      "outputs": []
    },
    {
      "cell_type": "markdown",
      "source": [
        "8. Import both time series directly from FRED into python.\n"
      ],
      "metadata": {
        "id": "z-urP1txSxLX"
      }
    },
    {
      "cell_type": "code",
      "source": [
        "pip install pmdarima"
      ],
      "metadata": {
        "colab": {
          "base_uri": "https://localhost:8080/"
        },
        "id": "0Itu0ni_ONky",
        "outputId": "0e47899a-f326-46b5-bad4-a9132e8bb4d8"
      },
      "execution_count": 602,
      "outputs": [
        {
          "output_type": "stream",
          "name": "stdout",
          "text": [
            "Looking in indexes: https://pypi.org/simple, https://us-python.pkg.dev/colab-wheels/public/simple/\n",
            "Requirement already satisfied: pmdarima in /usr/local/lib/python3.7/dist-packages (2.0.1)\n",
            "Requirement already satisfied: scikit-learn>=0.22 in /usr/local/lib/python3.7/dist-packages (from pmdarima) (1.0.2)\n",
            "Requirement already satisfied: Cython!=0.29.18,!=0.29.31,>=0.29 in /usr/local/lib/python3.7/dist-packages (from pmdarima) (0.29.32)\n",
            "Requirement already satisfied: scipy>=1.3.2 in /usr/local/lib/python3.7/dist-packages (from pmdarima) (1.7.3)\n",
            "Requirement already satisfied: setuptools!=50.0.0,>=38.6.0 in /usr/local/lib/python3.7/dist-packages (from pmdarima) (57.4.0)\n",
            "Requirement already satisfied: joblib>=0.11 in /usr/local/lib/python3.7/dist-packages (from pmdarima) (1.2.0)\n",
            "Requirement already satisfied: pandas>=0.19 in /usr/local/lib/python3.7/dist-packages (from pmdarima) (1.3.5)\n",
            "Requirement already satisfied: numpy>=1.21 in /usr/local/lib/python3.7/dist-packages (from pmdarima) (1.21.6)\n",
            "Requirement already satisfied: statsmodels>=0.13.2 in /usr/local/lib/python3.7/dist-packages (from pmdarima) (0.13.5)\n",
            "Requirement already satisfied: urllib3 in /usr/local/lib/python3.7/dist-packages (from pmdarima) (1.24.3)\n",
            "Requirement already satisfied: pytz>=2017.3 in /usr/local/lib/python3.7/dist-packages (from pandas>=0.19->pmdarima) (2022.6)\n",
            "Requirement already satisfied: python-dateutil>=2.7.3 in /usr/local/lib/python3.7/dist-packages (from pandas>=0.19->pmdarima) (2.8.2)\n",
            "Requirement already satisfied: six>=1.5 in /usr/local/lib/python3.7/dist-packages (from python-dateutil>=2.7.3->pandas>=0.19->pmdarima) (1.15.0)\n",
            "Requirement already satisfied: threadpoolctl>=2.0.0 in /usr/local/lib/python3.7/dist-packages (from scikit-learn>=0.22->pmdarima) (3.1.0)\n",
            "Requirement already satisfied: patsy>=0.5.2 in /usr/local/lib/python3.7/dist-packages (from statsmodels>=0.13.2->pmdarima) (0.5.3)\n",
            "Requirement already satisfied: packaging>=21.3 in /usr/local/lib/python3.7/dist-packages (from statsmodels>=0.13.2->pmdarima) (21.3)\n",
            "Requirement already satisfied: pyparsing!=3.0.5,>=2.0.2 in /usr/local/lib/python3.7/dist-packages (from packaging>=21.3->statsmodels>=0.13.2->pmdarima) (3.0.9)\n"
          ]
        }
      ]
    },
    {
      "cell_type": "code",
      "source": [
        "import pandas as pd\n",
        "import numpy as np\n",
        "from plotnine import *\n",
        "import pandas_datareader as pdr\n",
        "import datetime as dt\n",
        "from statsmodels.graphics.tsaplots import plot_acf\n",
        "from statsmodels.graphics.tsaplots import plot_pacf\n",
        "import matplotlib.pyplot as plt\n",
        "from statsmodels.tsa.stattools import adfuller,kpss\n",
        "from statsmodels.tsa.arima.model import ARIMA\n",
        "import statsmodels.api as sm\n",
        "import pmdarima as pmd\n",
        "from pmdarima import model_selection"
      ],
      "metadata": {
        "id": "_W4W7OMvTKXf"
      },
      "execution_count": 603,
      "outputs": []
    },
    {
      "cell_type": "code",
      "source": [
        "df1 = pd.read_html('https://fred.stlouisfed.org/series/LAUST060000000000003A#0')\n",
        "start1 = dt.datetime(1976,1,1)\n",
        "end1 = dt.datetime(2020,2,1) \n",
        "df1 = pdr.DataReader(name = 'LAUST060000000000003A', data_source='fred', start=start1, end=end1)\n",
        "df1.columns = ['UnOfCA']"
      ],
      "metadata": {
        "id": "fCif-toVAMe0"
      },
      "execution_count": 604,
      "outputs": []
    },
    {
      "cell_type": "code",
      "source": [
        "df1"
      ],
      "metadata": {
        "colab": {
          "base_uri": "https://localhost:8080/",
          "height": 1000
        },
        "id": "_T8fUUPRVapc",
        "outputId": "53d65fb1-ad22-4dd0-df40-f63c14e3f063"
      },
      "execution_count": 605,
      "outputs": [
        {
          "output_type": "execute_result",
          "data": {
            "text/plain": [
              "            UnOfCA\n",
              "DATE              \n",
              "1976-01-01     9.2\n",
              "1977-01-01     8.4\n",
              "1978-01-01     7.1\n",
              "1979-01-01     6.2\n",
              "1980-01-01     6.9\n",
              "1981-01-01     7.4\n",
              "1982-01-01    10.1\n",
              "1983-01-01     9.8\n",
              "1984-01-01     7.7\n",
              "1985-01-01     7.2\n",
              "1986-01-01     6.8\n",
              "1987-01-01     5.8\n",
              "1988-01-01     5.3\n",
              "1989-01-01     5.1\n",
              "1990-01-01     5.8\n",
              "1991-01-01     7.8\n",
              "1992-01-01     9.4\n",
              "1993-01-01     9.5\n",
              "1994-01-01     8.7\n",
              "1995-01-01     7.9\n",
              "1996-01-01     7.3\n",
              "1997-01-01     6.4\n",
              "1998-01-01     5.9\n",
              "1999-01-01     5.3\n",
              "2000-01-01     4.9\n",
              "2001-01-01     5.5\n",
              "2002-01-01     6.8\n",
              "2003-01-01     6.9\n",
              "2004-01-01     6.2\n",
              "2005-01-01     5.4\n",
              "2006-01-01     4.9\n",
              "2007-01-01     5.3\n",
              "2008-01-01     7.3\n",
              "2009-01-01    11.5\n",
              "2010-01-01    12.5\n",
              "2011-01-01    11.9\n",
              "2012-01-01    10.5\n",
              "2013-01-01     9.0\n",
              "2014-01-01     7.6\n",
              "2015-01-01     6.3\n",
              "2016-01-01     5.5\n",
              "2017-01-01     4.8\n",
              "2018-01-01     4.3\n",
              "2019-01-01     4.1\n",
              "2020-01-01    10.2"
            ],
            "text/html": [
              "\n",
              "  <div id=\"df-b5097f6e-1b94-46ed-b0f5-babccb8b2c3d\">\n",
              "    <div class=\"colab-df-container\">\n",
              "      <div>\n",
              "<style scoped>\n",
              "    .dataframe tbody tr th:only-of-type {\n",
              "        vertical-align: middle;\n",
              "    }\n",
              "\n",
              "    .dataframe tbody tr th {\n",
              "        vertical-align: top;\n",
              "    }\n",
              "\n",
              "    .dataframe thead th {\n",
              "        text-align: right;\n",
              "    }\n",
              "</style>\n",
              "<table border=\"1\" class=\"dataframe\">\n",
              "  <thead>\n",
              "    <tr style=\"text-align: right;\">\n",
              "      <th></th>\n",
              "      <th>UnOfCA</th>\n",
              "    </tr>\n",
              "    <tr>\n",
              "      <th>DATE</th>\n",
              "      <th></th>\n",
              "    </tr>\n",
              "  </thead>\n",
              "  <tbody>\n",
              "    <tr>\n",
              "      <th>1976-01-01</th>\n",
              "      <td>9.2</td>\n",
              "    </tr>\n",
              "    <tr>\n",
              "      <th>1977-01-01</th>\n",
              "      <td>8.4</td>\n",
              "    </tr>\n",
              "    <tr>\n",
              "      <th>1978-01-01</th>\n",
              "      <td>7.1</td>\n",
              "    </tr>\n",
              "    <tr>\n",
              "      <th>1979-01-01</th>\n",
              "      <td>6.2</td>\n",
              "    </tr>\n",
              "    <tr>\n",
              "      <th>1980-01-01</th>\n",
              "      <td>6.9</td>\n",
              "    </tr>\n",
              "    <tr>\n",
              "      <th>1981-01-01</th>\n",
              "      <td>7.4</td>\n",
              "    </tr>\n",
              "    <tr>\n",
              "      <th>1982-01-01</th>\n",
              "      <td>10.1</td>\n",
              "    </tr>\n",
              "    <tr>\n",
              "      <th>1983-01-01</th>\n",
              "      <td>9.8</td>\n",
              "    </tr>\n",
              "    <tr>\n",
              "      <th>1984-01-01</th>\n",
              "      <td>7.7</td>\n",
              "    </tr>\n",
              "    <tr>\n",
              "      <th>1985-01-01</th>\n",
              "      <td>7.2</td>\n",
              "    </tr>\n",
              "    <tr>\n",
              "      <th>1986-01-01</th>\n",
              "      <td>6.8</td>\n",
              "    </tr>\n",
              "    <tr>\n",
              "      <th>1987-01-01</th>\n",
              "      <td>5.8</td>\n",
              "    </tr>\n",
              "    <tr>\n",
              "      <th>1988-01-01</th>\n",
              "      <td>5.3</td>\n",
              "    </tr>\n",
              "    <tr>\n",
              "      <th>1989-01-01</th>\n",
              "      <td>5.1</td>\n",
              "    </tr>\n",
              "    <tr>\n",
              "      <th>1990-01-01</th>\n",
              "      <td>5.8</td>\n",
              "    </tr>\n",
              "    <tr>\n",
              "      <th>1991-01-01</th>\n",
              "      <td>7.8</td>\n",
              "    </tr>\n",
              "    <tr>\n",
              "      <th>1992-01-01</th>\n",
              "      <td>9.4</td>\n",
              "    </tr>\n",
              "    <tr>\n",
              "      <th>1993-01-01</th>\n",
              "      <td>9.5</td>\n",
              "    </tr>\n",
              "    <tr>\n",
              "      <th>1994-01-01</th>\n",
              "      <td>8.7</td>\n",
              "    </tr>\n",
              "    <tr>\n",
              "      <th>1995-01-01</th>\n",
              "      <td>7.9</td>\n",
              "    </tr>\n",
              "    <tr>\n",
              "      <th>1996-01-01</th>\n",
              "      <td>7.3</td>\n",
              "    </tr>\n",
              "    <tr>\n",
              "      <th>1997-01-01</th>\n",
              "      <td>6.4</td>\n",
              "    </tr>\n",
              "    <tr>\n",
              "      <th>1998-01-01</th>\n",
              "      <td>5.9</td>\n",
              "    </tr>\n",
              "    <tr>\n",
              "      <th>1999-01-01</th>\n",
              "      <td>5.3</td>\n",
              "    </tr>\n",
              "    <tr>\n",
              "      <th>2000-01-01</th>\n",
              "      <td>4.9</td>\n",
              "    </tr>\n",
              "    <tr>\n",
              "      <th>2001-01-01</th>\n",
              "      <td>5.5</td>\n",
              "    </tr>\n",
              "    <tr>\n",
              "      <th>2002-01-01</th>\n",
              "      <td>6.8</td>\n",
              "    </tr>\n",
              "    <tr>\n",
              "      <th>2003-01-01</th>\n",
              "      <td>6.9</td>\n",
              "    </tr>\n",
              "    <tr>\n",
              "      <th>2004-01-01</th>\n",
              "      <td>6.2</td>\n",
              "    </tr>\n",
              "    <tr>\n",
              "      <th>2005-01-01</th>\n",
              "      <td>5.4</td>\n",
              "    </tr>\n",
              "    <tr>\n",
              "      <th>2006-01-01</th>\n",
              "      <td>4.9</td>\n",
              "    </tr>\n",
              "    <tr>\n",
              "      <th>2007-01-01</th>\n",
              "      <td>5.3</td>\n",
              "    </tr>\n",
              "    <tr>\n",
              "      <th>2008-01-01</th>\n",
              "      <td>7.3</td>\n",
              "    </tr>\n",
              "    <tr>\n",
              "      <th>2009-01-01</th>\n",
              "      <td>11.5</td>\n",
              "    </tr>\n",
              "    <tr>\n",
              "      <th>2010-01-01</th>\n",
              "      <td>12.5</td>\n",
              "    </tr>\n",
              "    <tr>\n",
              "      <th>2011-01-01</th>\n",
              "      <td>11.9</td>\n",
              "    </tr>\n",
              "    <tr>\n",
              "      <th>2012-01-01</th>\n",
              "      <td>10.5</td>\n",
              "    </tr>\n",
              "    <tr>\n",
              "      <th>2013-01-01</th>\n",
              "      <td>9.0</td>\n",
              "    </tr>\n",
              "    <tr>\n",
              "      <th>2014-01-01</th>\n",
              "      <td>7.6</td>\n",
              "    </tr>\n",
              "    <tr>\n",
              "      <th>2015-01-01</th>\n",
              "      <td>6.3</td>\n",
              "    </tr>\n",
              "    <tr>\n",
              "      <th>2016-01-01</th>\n",
              "      <td>5.5</td>\n",
              "    </tr>\n",
              "    <tr>\n",
              "      <th>2017-01-01</th>\n",
              "      <td>4.8</td>\n",
              "    </tr>\n",
              "    <tr>\n",
              "      <th>2018-01-01</th>\n",
              "      <td>4.3</td>\n",
              "    </tr>\n",
              "    <tr>\n",
              "      <th>2019-01-01</th>\n",
              "      <td>4.1</td>\n",
              "    </tr>\n",
              "    <tr>\n",
              "      <th>2020-01-01</th>\n",
              "      <td>10.2</td>\n",
              "    </tr>\n",
              "  </tbody>\n",
              "</table>\n",
              "</div>\n",
              "      <button class=\"colab-df-convert\" onclick=\"convertToInteractive('df-b5097f6e-1b94-46ed-b0f5-babccb8b2c3d')\"\n",
              "              title=\"Convert this dataframe to an interactive table.\"\n",
              "              style=\"display:none;\">\n",
              "        \n",
              "  <svg xmlns=\"http://www.w3.org/2000/svg\" height=\"24px\"viewBox=\"0 0 24 24\"\n",
              "       width=\"24px\">\n",
              "    <path d=\"M0 0h24v24H0V0z\" fill=\"none\"/>\n",
              "    <path d=\"M18.56 5.44l.94 2.06.94-2.06 2.06-.94-2.06-.94-.94-2.06-.94 2.06-2.06.94zm-11 1L8.5 8.5l.94-2.06 2.06-.94-2.06-.94L8.5 2.5l-.94 2.06-2.06.94zm10 10l.94 2.06.94-2.06 2.06-.94-2.06-.94-.94-2.06-.94 2.06-2.06.94z\"/><path d=\"M17.41 7.96l-1.37-1.37c-.4-.4-.92-.59-1.43-.59-.52 0-1.04.2-1.43.59L10.3 9.45l-7.72 7.72c-.78.78-.78 2.05 0 2.83L4 21.41c.39.39.9.59 1.41.59.51 0 1.02-.2 1.41-.59l7.78-7.78 2.81-2.81c.8-.78.8-2.07 0-2.86zM5.41 20L4 18.59l7.72-7.72 1.47 1.35L5.41 20z\"/>\n",
              "  </svg>\n",
              "      </button>\n",
              "      \n",
              "  <style>\n",
              "    .colab-df-container {\n",
              "      display:flex;\n",
              "      flex-wrap:wrap;\n",
              "      gap: 12px;\n",
              "    }\n",
              "\n",
              "    .colab-df-convert {\n",
              "      background-color: #E8F0FE;\n",
              "      border: none;\n",
              "      border-radius: 50%;\n",
              "      cursor: pointer;\n",
              "      display: none;\n",
              "      fill: #1967D2;\n",
              "      height: 32px;\n",
              "      padding: 0 0 0 0;\n",
              "      width: 32px;\n",
              "    }\n",
              "\n",
              "    .colab-df-convert:hover {\n",
              "      background-color: #E2EBFA;\n",
              "      box-shadow: 0px 1px 2px rgba(60, 64, 67, 0.3), 0px 1px 3px 1px rgba(60, 64, 67, 0.15);\n",
              "      fill: #174EA6;\n",
              "    }\n",
              "\n",
              "    [theme=dark] .colab-df-convert {\n",
              "      background-color: #3B4455;\n",
              "      fill: #D2E3FC;\n",
              "    }\n",
              "\n",
              "    [theme=dark] .colab-df-convert:hover {\n",
              "      background-color: #434B5C;\n",
              "      box-shadow: 0px 1px 3px 1px rgba(0, 0, 0, 0.15);\n",
              "      filter: drop-shadow(0px 1px 2px rgba(0, 0, 0, 0.3));\n",
              "      fill: #FFFFFF;\n",
              "    }\n",
              "  </style>\n",
              "\n",
              "      <script>\n",
              "        const buttonEl =\n",
              "          document.querySelector('#df-b5097f6e-1b94-46ed-b0f5-babccb8b2c3d button.colab-df-convert');\n",
              "        buttonEl.style.display =\n",
              "          google.colab.kernel.accessAllowed ? 'block' : 'none';\n",
              "\n",
              "        async function convertToInteractive(key) {\n",
              "          const element = document.querySelector('#df-b5097f6e-1b94-46ed-b0f5-babccb8b2c3d');\n",
              "          const dataTable =\n",
              "            await google.colab.kernel.invokeFunction('convertToInteractive',\n",
              "                                                     [key], {});\n",
              "          if (!dataTable) return;\n",
              "\n",
              "          const docLinkHtml = 'Like what you see? Visit the ' +\n",
              "            '<a target=\"_blank\" href=https://colab.research.google.com/notebooks/data_table.ipynb>data table notebook</a>'\n",
              "            + ' to learn more about interactive tables.';\n",
              "          element.innerHTML = '';\n",
              "          dataTable['output_type'] = 'display_data';\n",
              "          await google.colab.output.renderOutput(dataTable, element);\n",
              "          const docLink = document.createElement('div');\n",
              "          docLink.innerHTML = docLinkHtml;\n",
              "          element.appendChild(docLink);\n",
              "        }\n",
              "      </script>\n",
              "    </div>\n",
              "  </div>\n",
              "  "
            ]
          },
          "metadata": {},
          "execution_count": 605
        }
      ]
    },
    {
      "cell_type": "code",
      "source": [
        "df2 = pd.read_html('https://fred.stlouisfed.org/series/UNRATENSA')\n",
        "start2 = dt.datetime(1948,1,1)\n",
        "end2 = dt.datetime(2020,2,1) \n",
        "df2 = pdr.DataReader(name = 'UNRATENSA', data_source='fred', start = start2, end=end2)\n",
        "df2.columns = ['UnOfUS']"
      ],
      "metadata": {
        "id": "1t5nLHlVAObD"
      },
      "execution_count": 606,
      "outputs": []
    },
    {
      "cell_type": "code",
      "source": [
        "df2"
      ],
      "metadata": {
        "colab": {
          "base_uri": "https://localhost:8080/",
          "height": 455
        },
        "id": "mtHOYMYbWqL6",
        "outputId": "7b6d3a4b-0725-44a2-ba2b-5123fe2ac483"
      },
      "execution_count": 607,
      "outputs": [
        {
          "output_type": "execute_result",
          "data": {
            "text/plain": [
              "            UnOfUS\n",
              "DATE              \n",
              "1948-01-01     4.0\n",
              "1948-02-01     4.7\n",
              "1948-03-01     4.5\n",
              "1948-04-01     4.0\n",
              "1948-05-01     3.4\n",
              "...            ...\n",
              "2019-10-01     3.3\n",
              "2019-11-01     3.3\n",
              "2019-12-01     3.4\n",
              "2020-01-01     4.0\n",
              "2020-02-01     3.8\n",
              "\n",
              "[866 rows x 1 columns]"
            ],
            "text/html": [
              "\n",
              "  <div id=\"df-4f6ea453-b8ef-451b-8187-c130de045e38\">\n",
              "    <div class=\"colab-df-container\">\n",
              "      <div>\n",
              "<style scoped>\n",
              "    .dataframe tbody tr th:only-of-type {\n",
              "        vertical-align: middle;\n",
              "    }\n",
              "\n",
              "    .dataframe tbody tr th {\n",
              "        vertical-align: top;\n",
              "    }\n",
              "\n",
              "    .dataframe thead th {\n",
              "        text-align: right;\n",
              "    }\n",
              "</style>\n",
              "<table border=\"1\" class=\"dataframe\">\n",
              "  <thead>\n",
              "    <tr style=\"text-align: right;\">\n",
              "      <th></th>\n",
              "      <th>UnOfUS</th>\n",
              "    </tr>\n",
              "    <tr>\n",
              "      <th>DATE</th>\n",
              "      <th></th>\n",
              "    </tr>\n",
              "  </thead>\n",
              "  <tbody>\n",
              "    <tr>\n",
              "      <th>1948-01-01</th>\n",
              "      <td>4.0</td>\n",
              "    </tr>\n",
              "    <tr>\n",
              "      <th>1948-02-01</th>\n",
              "      <td>4.7</td>\n",
              "    </tr>\n",
              "    <tr>\n",
              "      <th>1948-03-01</th>\n",
              "      <td>4.5</td>\n",
              "    </tr>\n",
              "    <tr>\n",
              "      <th>1948-04-01</th>\n",
              "      <td>4.0</td>\n",
              "    </tr>\n",
              "    <tr>\n",
              "      <th>1948-05-01</th>\n",
              "      <td>3.4</td>\n",
              "    </tr>\n",
              "    <tr>\n",
              "      <th>...</th>\n",
              "      <td>...</td>\n",
              "    </tr>\n",
              "    <tr>\n",
              "      <th>2019-10-01</th>\n",
              "      <td>3.3</td>\n",
              "    </tr>\n",
              "    <tr>\n",
              "      <th>2019-11-01</th>\n",
              "      <td>3.3</td>\n",
              "    </tr>\n",
              "    <tr>\n",
              "      <th>2019-12-01</th>\n",
              "      <td>3.4</td>\n",
              "    </tr>\n",
              "    <tr>\n",
              "      <th>2020-01-01</th>\n",
              "      <td>4.0</td>\n",
              "    </tr>\n",
              "    <tr>\n",
              "      <th>2020-02-01</th>\n",
              "      <td>3.8</td>\n",
              "    </tr>\n",
              "  </tbody>\n",
              "</table>\n",
              "<p>866 rows × 1 columns</p>\n",
              "</div>\n",
              "      <button class=\"colab-df-convert\" onclick=\"convertToInteractive('df-4f6ea453-b8ef-451b-8187-c130de045e38')\"\n",
              "              title=\"Convert this dataframe to an interactive table.\"\n",
              "              style=\"display:none;\">\n",
              "        \n",
              "  <svg xmlns=\"http://www.w3.org/2000/svg\" height=\"24px\"viewBox=\"0 0 24 24\"\n",
              "       width=\"24px\">\n",
              "    <path d=\"M0 0h24v24H0V0z\" fill=\"none\"/>\n",
              "    <path d=\"M18.56 5.44l.94 2.06.94-2.06 2.06-.94-2.06-.94-.94-2.06-.94 2.06-2.06.94zm-11 1L8.5 8.5l.94-2.06 2.06-.94-2.06-.94L8.5 2.5l-.94 2.06-2.06.94zm10 10l.94 2.06.94-2.06 2.06-.94-2.06-.94-.94-2.06-.94 2.06-2.06.94z\"/><path d=\"M17.41 7.96l-1.37-1.37c-.4-.4-.92-.59-1.43-.59-.52 0-1.04.2-1.43.59L10.3 9.45l-7.72 7.72c-.78.78-.78 2.05 0 2.83L4 21.41c.39.39.9.59 1.41.59.51 0 1.02-.2 1.41-.59l7.78-7.78 2.81-2.81c.8-.78.8-2.07 0-2.86zM5.41 20L4 18.59l7.72-7.72 1.47 1.35L5.41 20z\"/>\n",
              "  </svg>\n",
              "      </button>\n",
              "      \n",
              "  <style>\n",
              "    .colab-df-container {\n",
              "      display:flex;\n",
              "      flex-wrap:wrap;\n",
              "      gap: 12px;\n",
              "    }\n",
              "\n",
              "    .colab-df-convert {\n",
              "      background-color: #E8F0FE;\n",
              "      border: none;\n",
              "      border-radius: 50%;\n",
              "      cursor: pointer;\n",
              "      display: none;\n",
              "      fill: #1967D2;\n",
              "      height: 32px;\n",
              "      padding: 0 0 0 0;\n",
              "      width: 32px;\n",
              "    }\n",
              "\n",
              "    .colab-df-convert:hover {\n",
              "      background-color: #E2EBFA;\n",
              "      box-shadow: 0px 1px 2px rgba(60, 64, 67, 0.3), 0px 1px 3px 1px rgba(60, 64, 67, 0.15);\n",
              "      fill: #174EA6;\n",
              "    }\n",
              "\n",
              "    [theme=dark] .colab-df-convert {\n",
              "      background-color: #3B4455;\n",
              "      fill: #D2E3FC;\n",
              "    }\n",
              "\n",
              "    [theme=dark] .colab-df-convert:hover {\n",
              "      background-color: #434B5C;\n",
              "      box-shadow: 0px 1px 3px 1px rgba(0, 0, 0, 0.15);\n",
              "      filter: drop-shadow(0px 1px 2px rgba(0, 0, 0, 0.3));\n",
              "      fill: #FFFFFF;\n",
              "    }\n",
              "  </style>\n",
              "\n",
              "      <script>\n",
              "        const buttonEl =\n",
              "          document.querySelector('#df-4f6ea453-b8ef-451b-8187-c130de045e38 button.colab-df-convert');\n",
              "        buttonEl.style.display =\n",
              "          google.colab.kernel.accessAllowed ? 'block' : 'none';\n",
              "\n",
              "        async function convertToInteractive(key) {\n",
              "          const element = document.querySelector('#df-4f6ea453-b8ef-451b-8187-c130de045e38');\n",
              "          const dataTable =\n",
              "            await google.colab.kernel.invokeFunction('convertToInteractive',\n",
              "                                                     [key], {});\n",
              "          if (!dataTable) return;\n",
              "\n",
              "          const docLinkHtml = 'Like what you see? Visit the ' +\n",
              "            '<a target=\"_blank\" href=https://colab.research.google.com/notebooks/data_table.ipynb>data table notebook</a>'\n",
              "            + ' to learn more about interactive tables.';\n",
              "          element.innerHTML = '';\n",
              "          dataTable['output_type'] = 'display_data';\n",
              "          await google.colab.output.renderOutput(dataTable, element);\n",
              "          const docLink = document.createElement('div');\n",
              "          docLink.innerHTML = docLinkHtml;\n",
              "          element.appendChild(docLink);\n",
              "        }\n",
              "      </script>\n",
              "    </div>\n",
              "  </div>\n",
              "  "
            ]
          },
          "metadata": {},
          "execution_count": 607
        }
      ]
    },
    {
      "cell_type": "markdown",
      "source": [
        "9. Visualize both series and interpret the patterns you see in data."
      ],
      "metadata": {
        "id": "4skQKNmKWy-7"
      }
    },
    {
      "cell_type": "code",
      "source": [
        "df1.plot()"
      ],
      "metadata": {
        "colab": {
          "base_uri": "https://localhost:8080/",
          "height": 296
        },
        "id": "hFwHRt-MW2BS",
        "outputId": "650def9a-c170-425e-dd77-b1f81274004a"
      },
      "execution_count": 608,
      "outputs": [
        {
          "output_type": "execute_result",
          "data": {
            "text/plain": [
              "<matplotlib.axes._subplots.AxesSubplot at 0x7fb83ae8da90>"
            ]
          },
          "metadata": {},
          "execution_count": 608
        },
        {
          "output_type": "display_data",
          "data": {
            "text/plain": [
              "<Figure size 432x288 with 1 Axes>"
            ],
            "image/png": "[encoded data removed]"
          },
          "metadata": {
            "needs_background": "light"
          }
        }
      ]
    },
    {
      "cell_type": "code",
      "source": [
        "# There is a cyclical pattern. We see that for every decade, there is a potential peak in annual unemployment rates of California.\n",
        "# Overall, there was a declining trend before Year 2005. \n",
        "# Around year 2010, the annual unemployment rate of California was highest, possibly caused by economic crisis."
      ],
      "metadata": {
        "id": "Uq_W9LyfXDDm"
      },
      "execution_count": 609,
      "outputs": []
    },
    {
      "cell_type": "code",
      "source": [
        "df2.plot()"
      ],
      "metadata": {
        "colab": {
          "base_uri": "https://localhost:8080/",
          "height": 296
        },
        "id": "rWxOX-qtW-AN",
        "outputId": "15bf9933-ef89-47a8-e541-347f61c27ded"
      },
      "execution_count": 610,
      "outputs": [
        {
          "output_type": "execute_result",
          "data": {
            "text/plain": [
              "<matplotlib.axes._subplots.AxesSubplot at 0x7fb83b124110>"
            ]
          },
          "metadata": {},
          "execution_count": 610
        },
        {
          "output_type": "display_data",
          "data": {
            "text/plain": [
              "<Figure size 432x288 with 1 Axes>"
            ],
            "image/png": "[encoded data removed]"
          },
          "metadata": {
            "needs_background": "light"
          }
        }
      ]
    },
    {
      "cell_type": "code",
      "source": [
        "# Overall, there is a cyclical pattern, similar to that of California's unemployment rate.\n",
        "# There are seasonal trends and noises in the data of monthly unemplotment rate in the U.S.."
      ],
      "metadata": {
        "id": "cUyAU-bvXIzU"
      },
      "execution_count": 611,
      "outputs": []
    },
    {
      "cell_type": "markdown",
      "source": [
        "10. Create the acf plot for each series and describe the dependence structure in both of the original series. "
      ],
      "metadata": {
        "id": "O9PKUJbcXT-k"
      }
    },
    {
      "cell_type": "code",
      "source": [
        "plot_acf(df1,zero=False);"
      ],
      "metadata": {
        "colab": {
          "base_uri": "https://localhost:8080/",
          "height": 281
        },
        "id": "VqxyusyJXdJT",
        "outputId": "187e32f0-dd49-410f-f89e-50542f4d9253"
      },
      "execution_count": 612,
      "outputs": [
        {
          "output_type": "display_data",
          "data": {
            "text/plain": [
              "<Figure size 432x288 with 1 Axes>"
            ],
            "image/png": "[encoded data removed]"
          },
          "metadata": {
            "needs_background": "light"
          }
        }
      ]
    },
    {
      "cell_type": "code",
      "source": [
        "# The 1st lag in the data of annual California's unemployment rate is significant."
      ],
      "metadata": {
        "id": "k2kf5dBSQKlx"
      },
      "execution_count": 613,
      "outputs": []
    },
    {
      "cell_type": "code",
      "source": [
        "plot_pacf(df1,zero=False);"
      ],
      "metadata": {
        "colab": {
          "base_uri": "https://localhost:8080/",
          "height": 281
        },
        "id": "gM9eBeG-RuXR",
        "outputId": "b537e777-a60f-490c-9df2-6cf7f57772cd"
      },
      "execution_count": 614,
      "outputs": [
        {
          "output_type": "display_data",
          "data": {
            "text/plain": [
              "<Figure size 432x288 with 1 Axes>"
            ],
            "image/png": "[encoded data removed]"
          },
          "metadata": {
            "needs_background": "light"
          }
        }
      ]
    },
    {
      "cell_type": "code",
      "source": [
        "plot_acf(df2,zero=False);"
      ],
      "metadata": {
        "colab": {
          "base_uri": "https://localhost:8080/",
          "height": 281
        },
        "id": "VEPdLON5XfR2",
        "outputId": "7e60cfdd-cca0-44e7-e242-a9738d6faea3"
      },
      "execution_count": 615,
      "outputs": [
        {
          "output_type": "display_data",
          "data": {
            "text/plain": [
              "<Figure size 432x288 with 1 Axes>"
            ],
            "image/png": "[encoded data removed]"
          },
          "metadata": {
            "needs_background": "light"
          }
        }
      ]
    },
    {
      "cell_type": "code",
      "source": [
        "# The autocorrelations decline slowly. I consider the first 12 lags significant.\n",
        "# This indicates that the data is not stationary and is in need of a non-seasonal differencing."
      ],
      "metadata": {
        "id": "BhXERGS8QzGt"
      },
      "execution_count": 616,
      "outputs": []
    },
    {
      "cell_type": "code",
      "source": [
        "plot_pacf(df2,zero=False);"
      ],
      "metadata": {
        "colab": {
          "base_uri": "https://localhost:8080/",
          "height": 281
        },
        "id": "0ruo5pwL2d7K",
        "outputId": "ec526dfc-8b36-402e-814c-3a8a822b9a0d"
      },
      "execution_count": 617,
      "outputs": [
        {
          "output_type": "display_data",
          "data": {
            "text/plain": [
              "<Figure size 432x288 with 1 Axes>"
            ],
            "image/png": "[encoded data removed]"
          },
          "metadata": {
            "needs_background": "light"
          }
        }
      ]
    },
    {
      "cell_type": "markdown",
      "source": [
        "11. Based on the visualizations you created in previous questions, do you think series are stationary or not? Why do we care whether data is stationary or not?"
      ],
      "metadata": {
        "id": "CndHn3o3aytd"
      }
    },
    {
      "cell_type": "code",
      "source": [
        "# Df1 is stationary.\n",
        "# Df2 is not stationary. \n",
        "# We care because we can build ARIMA models with only stationary data.\n",
        "# A stationarized series is relatively easy to predict.\n",
        "# Stationarizing a time series through differencing (where needed) is an important part of the process of fitting an ARIMA model."
      ],
      "metadata": {
        "id": "7isnwXEOayIx"
      },
      "execution_count": 618,
      "outputs": []
    },
    {
      "cell_type": "markdown",
      "source": [
        "12. Carry out the stationarity tests. Do tests suggest the data is stationary?\n"
      ],
      "metadata": {
        "id": "zPtgpq2wdfgm"
      }
    },
    {
      "cell_type": "code",
      "source": [
        "# Dickey-Fuller test\n",
        "# Ho: data is NOT stationary\n",
        "# Ha: data is stationary\n",
        "# If p-value < 0.05, we reject Ho and conclude Ha, i.e. the data is stationary and we can build and ARMA model\n",
        "# If p-value > 0.05, we fail to reject Ho and conclude that the data is not stationary and \n",
        "# diffrencing needs to be performed to transform not stationary data to stationary and then build an ARMA model"
      ],
      "metadata": {
        "id": "NVgyA_GEdhPU"
      },
      "execution_count": 619,
      "outputs": []
    },
    {
      "cell_type": "code",
      "source": [
        "p_value1 = adfuller(df1['UnOfCA'])[1]\n",
        "p_value1"
      ],
      "metadata": {
        "colab": {
          "base_uri": "https://localhost:8080/"
        },
        "id": "1k0eb8HVduT7",
        "outputId": "0bb3f9da-f318-44e6-c435-bbea7e913976"
      },
      "execution_count": 620,
      "outputs": [
        {
          "output_type": "execute_result",
          "data": {
            "text/plain": [
              "0.0003320176685703861"
            ]
          },
          "metadata": {},
          "execution_count": 620
        }
      ]
    },
    {
      "cell_type": "code",
      "source": [
        "# p=0.00 < 0.05, the data of d1 is stationary and we can build an ARMA model"
      ],
      "metadata": {
        "id": "FbUWdq7Zd-bN"
      },
      "execution_count": 621,
      "outputs": []
    },
    {
      "cell_type": "code",
      "source": [
        "p_value2 = adfuller(df2['UnOfUS'])[1]\n",
        "p_value2"
      ],
      "metadata": {
        "colab": {
          "base_uri": "https://localhost:8080/"
        },
        "id": "V5FDya_eeFTZ",
        "outputId": "4fba445a-4099-4400-f0d1-57b73b797260"
      },
      "execution_count": 622,
      "outputs": [
        {
          "output_type": "execute_result",
          "data": {
            "text/plain": [
              "0.10636271221990662"
            ]
          },
          "metadata": {},
          "execution_count": 622
        }
      ]
    },
    {
      "cell_type": "code",
      "source": [
        "# p=0.11 > 0.05, the data of d2 is not stationary and we cannot build an ARMA model\n",
        "# We first need to transform not stationary data to stationary data\n",
        "# The typical tranformation is differencing"
      ],
      "metadata": {
        "id": "87Ji3NbHeJcs"
      },
      "execution_count": 623,
      "outputs": []
    },
    {
      "cell_type": "code",
      "source": [
        "#  KPSS test\n",
        "# Ho: data is level stationary \n",
        "# Ha: data is not stationary"
      ],
      "metadata": {
        "id": "qpXy08DmiPWF"
      },
      "execution_count": 624,
      "outputs": []
    },
    {
      "cell_type": "code",
      "source": [
        "p_value11 = kpss(df1,regression = 'c',nlags='auto')[1] #c stands for constant\n",
        "p_value11"
      ],
      "metadata": {
        "colab": {
          "base_uri": "https://localhost:8080/"
        },
        "id": "fLiUoavsiLiT",
        "outputId": "8c7f3b27-1f8e-4b78-f237-6db8bb8cb1c2"
      },
      "execution_count": 625,
      "outputs": [
        {
          "output_type": "stream",
          "name": "stderr",
          "text": [
            "/usr/local/lib/python3.7/dist-packages/statsmodels/tsa/stattools.py:2023: InterpolationWarning: The test statistic is outside of the range of p-values available in the\n",
            "look-up table. The actual p-value is greater than the p-value returned.\n",
            "\n"
          ]
        },
        {
          "output_type": "execute_result",
          "data": {
            "text/plain": [
              "0.1"
            ]
          },
          "metadata": {},
          "execution_count": 625
        }
      ]
    },
    {
      "cell_type": "code",
      "source": [
        "# Since p=0.1 > 0.05, we conclude that df1 is stationary"
      ],
      "metadata": {
        "id": "Nf87ecANi_n9"
      },
      "execution_count": 626,
      "outputs": []
    },
    {
      "cell_type": "code",
      "source": [
        "p_value22 = kpss(df2,regression = 'c',nlags='auto')[1] #c stands for constant\n",
        "p_value22"
      ],
      "metadata": {
        "colab": {
          "base_uri": "https://localhost:8080/"
        },
        "id": "M6g4Oirsiij8",
        "outputId": "d8b319e0-e7b8-4fa9-dda2-247d377288e4"
      },
      "execution_count": 627,
      "outputs": [
        {
          "output_type": "execute_result",
          "data": {
            "text/plain": [
              "0.03631825062266092"
            ]
          },
          "metadata": {},
          "execution_count": 627
        }
      ]
    },
    {
      "cell_type": "code",
      "source": [
        "# Since p=0.04 < 0.05, we conclude that df2 is not stationary"
      ],
      "metadata": {
        "id": "_ByDexW5jGgw"
      },
      "execution_count": 628,
      "outputs": []
    },
    {
      "cell_type": "markdown",
      "source": [
        "13. What corrections would you recommend if the series is non-stationary?"
      ],
      "metadata": {
        "id": "G8o9xoNVjaNt"
      }
    },
    {
      "cell_type": "code",
      "source": [
        "# There are monthly seasonality in df2, so I will conduct both seasonal and non-seasonal differencing to df2 to make it stationary."
      ],
      "metadata": {
        "id": "7YOgVJTdw7EI"
      },
      "execution_count": 629,
      "outputs": []
    },
    {
      "cell_type": "markdown",
      "source": [
        "14. Perform necessary preprocessing on both series (for example, differencing transformations if needed) and identify an appropriate ARIMA model(s) for each series."
      ],
      "metadata": {
        "id": "9fKyVSHJw6Xd"
      }
    },
    {
      "cell_type": "code",
      "source": [
        "plot_acf(df2, missing='drop', zero=False);"
      ],
      "metadata": {
        "colab": {
          "base_uri": "https://localhost:8080/",
          "height": 281
        },
        "id": "JqwrhnO_GnWF",
        "outputId": "6a5c64d0-b1e0-4adc-8ed2-66d1ff9547c1"
      },
      "execution_count": 630,
      "outputs": [
        {
          "output_type": "display_data",
          "data": {
            "text/plain": [
              "<Figure size 432x288 with 1 Axes>"
            ],
            "image/png": "[encoded data removed]"
          },
          "metadata": {
            "needs_background": "light"
          }
        }
      ]
    },
    {
      "cell_type": "code",
      "source": [
        "# We can see that the data is not stationary.\n",
        "# Since it have a linear declining trend, we will employ a non-seasonal differencing"
      ],
      "metadata": {
        "id": "HZvNmmcLHQSG"
      },
      "execution_count": 631,
      "outputs": []
    },
    {
      "cell_type": "code",
      "source": [
        "plot_acf(df2.diff(1).dropna(),lags=60,zero=False);"
      ],
      "metadata": {
        "colab": {
          "base_uri": "https://localhost:8080/",
          "height": 281
        },
        "id": "5yy_jeZBGbc9",
        "outputId": "743be685-4701-4fd2-9d9b-7a2c683a5727"
      },
      "execution_count": 632,
      "outputs": [
        {
          "output_type": "display_data",
          "data": {
            "text/plain": [
              "<Figure size 432x288 with 1 Axes>"
            ],
            "image/png": "[encoded data removed]"
          },
          "metadata": {
            "needs_background": "light"
          }
        }
      ]
    },
    {
      "cell_type": "code",
      "source": [
        "# From this graph, we can see that the data is still not stationary because it has seasonal lags.\n",
        "# Therefore, we need to further employ seasonal differencing with a seaonality of 12."
      ],
      "metadata": {
        "id": "dvWk7GB0HfEn"
      },
      "execution_count": 633,
      "outputs": []
    },
    {
      "cell_type": "code",
      "source": [
        "plot_acf(df2.diff(1).diff(12).dropna(), lags=60,zero=False);"
      ],
      "metadata": {
        "colab": {
          "base_uri": "https://localhost:8080/",
          "height": 281
        },
        "id": "6UA-r6ZIHtU7",
        "outputId": "5489c99d-e8ff-4634-c1c4-0740e4b22d01"
      },
      "execution_count": 634,
      "outputs": [
        {
          "output_type": "display_data",
          "data": {
            "text/plain": [
              "<Figure size 432x288 with 1 Axes>"
            ],
            "image/png": "[encoded data removed]"
          },
          "metadata": {
            "needs_background": "light"
          }
        }
      ]
    },
    {
      "cell_type": "code",
      "source": [
        "plot_pacf(df2.diff(1).diff(12).dropna(), lags=60,zero=False);"
      ],
      "metadata": {
        "colab": {
          "base_uri": "https://localhost:8080/",
          "height": 281
        },
        "id": "dfbOBXvvjve8",
        "outputId": "10a4ae7b-c3e7-4eb7-e4ab-0d1e221345b5"
      },
      "execution_count": 635,
      "outputs": [
        {
          "output_type": "display_data",
          "data": {
            "text/plain": [
              "<Figure size 432x288 with 1 Axes>"
            ],
            "image/png": "[encoded data removed]"
          },
          "metadata": {
            "needs_background": "light"
          }
        }
      ]
    },
    {
      "cell_type": "code",
      "source": [
        "# Yeah! It is stationary now."
      ],
      "metadata": {
        "id": "d4bZsbTcIGcP"
      },
      "execution_count": 636,
      "outputs": []
    },
    {
      "cell_type": "code",
      "source": [
        "print(pmd.arima.ndiffs(df2.dropna(), test='kpss')) "
      ],
      "metadata": {
        "colab": {
          "base_uri": "https://localhost:8080/"
        },
        "id": "jOC9otVPKJUR",
        "outputId": "35233292-4939-44c4-d2ff-935aba8146ec"
      },
      "execution_count": 637,
      "outputs": [
        {
          "output_type": "stream",
          "name": "stdout",
          "text": [
            "1\n"
          ]
        }
      ]
    },
    {
      "cell_type": "code",
      "source": [
        "print(pmd.arima.ndiffs(df2.diff(1).diff(12).dropna(), test='kpss')) "
      ],
      "metadata": {
        "colab": {
          "base_uri": "https://localhost:8080/"
        },
        "id": "NCFeDrA_KNRq",
        "outputId": "93bfc499-19c8-4716-d9a6-7b425a750a27"
      },
      "execution_count": 638,
      "outputs": [
        {
          "output_type": "stream",
          "name": "stdout",
          "text": [
            "0\n"
          ]
        }
      ]
    },
    {
      "cell_type": "code",
      "source": [
        "print(pmd.arima.ndiffs(df2.dropna(), test='adf')) "
      ],
      "metadata": {
        "colab": {
          "base_uri": "https://localhost:8080/"
        },
        "id": "OV_HtmjZKRkf",
        "outputId": "2143c56a-1b67-4471-9c34-0b8305245b5e"
      },
      "execution_count": 639,
      "outputs": [
        {
          "output_type": "stream",
          "name": "stdout",
          "text": [
            "1\n"
          ]
        }
      ]
    },
    {
      "cell_type": "code",
      "source": [
        "print(pmd.arima.ndiffs(df2.diff(1).diff(12).dropna(), test='adf')) "
      ],
      "metadata": {
        "colab": {
          "base_uri": "https://localhost:8080/"
        },
        "id": "Nx0rGDfdJCOc",
        "outputId": "ee9eb5bf-ec23-4d3b-9577-c3df39e56166"
      },
      "execution_count": 640,
      "outputs": [
        {
          "output_type": "stream",
          "name": "stdout",
          "text": [
            "0\n"
          ]
        }
      ]
    },
    {
      "cell_type": "code",
      "source": [
        "# This proves that our differencing approaches are effective and our data of df2 is stationary now."
      ],
      "metadata": {
        "id": "C9BePT75KVKS"
      },
      "execution_count": 641,
      "outputs": []
    },
    {
      "cell_type": "code",
      "source": [
        "print(pmd.arima.ndiffs(df1.dropna(), test='kpss')) "
      ],
      "metadata": {
        "colab": {
          "base_uri": "https://localhost:8080/"
        },
        "id": "LJAy-sEcKtal",
        "outputId": "55e6572e-d8d4-41fa-b87d-b45792a8026f"
      },
      "execution_count": 642,
      "outputs": [
        {
          "output_type": "stream",
          "name": "stdout",
          "text": [
            "0\n"
          ]
        }
      ]
    },
    {
      "cell_type": "code",
      "source": [
        "# The KPSS test indicates df1 is stationary."
      ],
      "metadata": {
        "id": "6d1_Rs_YK_sE"
      },
      "execution_count": 643,
      "outputs": []
    },
    {
      "cell_type": "code",
      "source": [
        "print(pmd.arima.ndiffs(df1.dropna(), test='adf')) "
      ],
      "metadata": {
        "colab": {
          "base_uri": "https://localhost:8080/"
        },
        "id": "KUmt80VEKvZ9",
        "outputId": "119a34da-9973-4c1f-a1ab-69c19f9a1d6a"
      },
      "execution_count": 644,
      "outputs": [
        {
          "output_type": "stream",
          "name": "stdout",
          "text": [
            "2\n"
          ]
        }
      ]
    },
    {
      "cell_type": "code",
      "source": [
        "# From the acf graph above, we observed df1 was stationary. \n",
        "# It is further confimed by the KPSS testing.\n",
        "# In quetsion 12, with the p-value, we also proved that df1 was stationary.\n",
        "# So no differenicng was employed to df1.\n",
        "# Employing a 2nd order of differencing referred by the ADF test will potentilly overfit the data.\n",
        "# Thus, we decided not to employ further differencing to df1."
      ],
      "metadata": {
        "id": "jvhbmTDTK8Cm"
      },
      "execution_count": 645,
      "outputs": []
    },
    {
      "cell_type": "code",
      "source": [
        "df2_diff12 = df2.diff(1).diff(12).dropna()\n",
        "\n",
        "print(pmd.arima.OCSBTest(m=12).estimate_seasonal_differencing_term(df2_diff12)) \n",
        "print(pmd.arima.CHTest(m=12).estimate_seasonal_differencing_term(df2_diff12))"
      ],
      "metadata": {
        "colab": {
          "base_uri": "https://localhost:8080/"
        },
        "id": "FZqHS8KSjkWY",
        "outputId": "66e96d7b-905c-4fbf-c8bd-8410801c0372"
      },
      "execution_count": 646,
      "outputs": [
        {
          "output_type": "stream",
          "name": "stdout",
          "text": [
            "0\n",
            "0\n"
          ]
        }
      ]
    },
    {
      "cell_type": "code",
      "source": [
        "# With OCSB and CH Test, we further proved that df2 is stationary now after seasonal and non-seasonal differencing."
      ],
      "metadata": {
        "id": "4p_99474NNk5"
      },
      "execution_count": 647,
      "outputs": []
    },
    {
      "cell_type": "markdown",
      "source": [
        "15. What is the simplest models that provide an adequate description of the observed data (this is sometimes known as the principle of parsimony). Discuss with reference to residual plots, residual autocorrelations, and the Box test."
      ],
      "metadata": {
        "id": "V7BNh9HZlNyO"
      }
    },
    {
      "cell_type": "code",
      "source": [
        "# From the graphs of acf and pacf"
      ],
      "metadata": {
        "id": "kOZ2tMvJy79u"
      },
      "execution_count": 648,
      "outputs": []
    },
    {
      "cell_type": "code",
      "source": [
        "# ARIMA Model for df1"
      ],
      "metadata": {
        "id": "7GvhUEL7zIB2"
      },
      "execution_count": 649,
      "outputs": []
    },
    {
      "cell_type": "code",
      "source": [
        "plot_acf(df1,zero=False);"
      ],
      "metadata": {
        "colab": {
          "base_uri": "https://localhost:8080/",
          "height": 281
        },
        "id": "-8A0Tq2ic72E",
        "outputId": "00c58756-cb0c-40f0-dba2-32727a82a746"
      },
      "execution_count": 650,
      "outputs": [
        {
          "output_type": "display_data",
          "data": {
            "text/plain": [
              "<Figure size 432x288 with 1 Axes>"
            ],
            "image/png": "[encoded data removed]"
          },
          "metadata": {
            "needs_background": "light"
          }
        }
      ]
    },
    {
      "cell_type": "code",
      "source": [
        "plot_pacf(df1,zero=False);"
      ],
      "metadata": {
        "colab": {
          "base_uri": "https://localhost:8080/",
          "height": 281
        },
        "id": "6OdTtmRkc980",
        "outputId": "17afec1e-e770-44bd-c3ee-f6917e9d5837"
      },
      "execution_count": 651,
      "outputs": [
        {
          "output_type": "display_data",
          "data": {
            "text/plain": [
              "<Figure size 432x288 with 1 Axes>"
            ],
            "image/png": "[encoded data removed]"
          },
          "metadata": {
            "needs_background": "light"
          }
        }
      ]
    },
    {
      "cell_type": "code",
      "source": [
        "M11 = ARIMA(df1['UnOfCA'],order=(0,0,1)) #-> the number of parameters to be estimated is 1\n",
        "M12 = ARIMA(df1['UnOfCA'],order=(1,0,0)) #-> the number of parameters to be estimated is 1\n",
        "M13 = ARIMA(df1['UnOfCA'],order=(1,0,1)) #-> the number of parameters to be estimated is 2\n",
        "\n",
        "M11_fit = M11.fit()\n",
        "M12_fit = M12.fit()\n",
        "M13_fit = M13.fit()"
      ],
      "metadata": {
        "colab": {
          "base_uri": "https://localhost:8080/"
        },
        "id": "a_PerJ4Pc1Tc",
        "outputId": "b6aed8da-75d8-4948-ad6c-72ed49d6068f"
      },
      "execution_count": 652,
      "outputs": [
        {
          "output_type": "stream",
          "name": "stderr",
          "text": [
            "/usr/local/lib/python3.7/dist-packages/statsmodels/tsa/base/tsa_model.py:471: ValueWarning: No frequency information was provided, so inferred frequency AS-JAN will be used.\n",
            "/usr/local/lib/python3.7/dist-packages/statsmodels/tsa/base/tsa_model.py:471: ValueWarning: No frequency information was provided, so inferred frequency AS-JAN will be used.\n",
            "/usr/local/lib/python3.7/dist-packages/statsmodels/tsa/base/tsa_model.py:471: ValueWarning: No frequency information was provided, so inferred frequency AS-JAN will be used.\n",
            "/usr/local/lib/python3.7/dist-packages/statsmodels/tsa/base/tsa_model.py:471: ValueWarning: No frequency information was provided, so inferred frequency AS-JAN will be used.\n",
            "/usr/local/lib/python3.7/dist-packages/statsmodels/tsa/base/tsa_model.py:471: ValueWarning: No frequency information was provided, so inferred frequency AS-JAN will be used.\n",
            "/usr/local/lib/python3.7/dist-packages/statsmodels/tsa/base/tsa_model.py:471: ValueWarning: No frequency information was provided, so inferred frequency AS-JAN will be used.\n",
            "/usr/local/lib/python3.7/dist-packages/statsmodels/tsa/base/tsa_model.py:471: ValueWarning: No frequency information was provided, so inferred frequency AS-JAN will be used.\n",
            "/usr/local/lib/python3.7/dist-packages/statsmodels/tsa/base/tsa_model.py:471: ValueWarning: No frequency information was provided, so inferred frequency AS-JAN will be used.\n",
            "/usr/local/lib/python3.7/dist-packages/statsmodels/tsa/base/tsa_model.py:471: ValueWarning: No frequency information was provided, so inferred frequency AS-JAN will be used.\n",
            "/usr/local/lib/python3.7/dist-packages/statsmodels/tsa/statespace/sarimax.py:978: UserWarning: Non-invertible starting MA parameters found. Using zeros as starting parameters.\n"
          ]
        }
      ]
    },
    {
      "cell_type": "code",
      "source": [
        "plt.plot(M11_fit.resid)"
      ],
      "metadata": {
        "colab": {
          "base_uri": "https://localhost:8080/",
          "height": 282
        },
        "outputId": "e39abda8-ef2b-4479-e49a-1c5d1f231c57",
        "id": "Q5eha-VnzWcC"
      },
      "execution_count": 653,
      "outputs": [
        {
          "output_type": "execute_result",
          "data": {
            "text/plain": [
              "[<matplotlib.lines.Line2D at 0x7fb83bdd2210>]"
            ]
          },
          "metadata": {},
          "execution_count": 653
        },
        {
          "output_type": "display_data",
          "data": {
            "text/plain": [
              "<Figure size 432x288 with 1 Axes>"
            ],
            "image/png": "[encoded data removed]"
          },
          "metadata": {
            "needs_background": "light"
          }
        }
      ]
    },
    {
      "cell_type": "code",
      "source": [
        "plot_acf(M11_fit.resid,lags=36,zero=False);"
      ],
      "metadata": {
        "colab": {
          "base_uri": "https://localhost:8080/",
          "height": 281
        },
        "id": "vsj0mKSR06yV",
        "outputId": "be691b4f-440e-4f5c-b2c7-a64ed6c297eb"
      },
      "execution_count": 654,
      "outputs": [
        {
          "output_type": "display_data",
          "data": {
            "text/plain": [
              "<Figure size 432x288 with 1 Axes>"
            ],
            "image/png": "[encoded data removed]"
          },
          "metadata": {
            "needs_background": "light"
          }
        }
      ]
    },
    {
      "cell_type": "code",
      "source": [
        "M11_fit.summary()"
      ],
      "metadata": {
        "colab": {
          "base_uri": "https://localhost:8080/",
          "height": 424
        },
        "id": "jimAC85JeAOv",
        "outputId": "48785392-9002-48c1-9cd6-ad025b301f69"
      },
      "execution_count": 655,
      "outputs": [
        {
          "output_type": "execute_result",
          "data": {
            "text/plain": [
              "<class 'statsmodels.iolib.summary.Summary'>\n",
              "\"\"\"\n",
              "                               SARIMAX Results                                \n",
              "==============================================================================\n",
              "Dep. Variable:                 UnOfCA   No. Observations:                   45\n",
              "Model:                 ARIMA(0, 0, 1)   Log Likelihood                 -78.287\n",
              "Date:                Wed, 23 Nov 2022   AIC                            162.574\n",
              "Time:                        09:27:28   BIC                            167.994\n",
              "Sample:                    01-01-1976   HQIC                           164.594\n",
              "                         - 01-01-2020                                         \n",
              "Covariance Type:                  opg                                         \n",
              "==============================================================================\n",
              "                 coef    std err          z      P>|z|      [0.025      0.975]\n",
              "------------------------------------------------------------------------------\n",
              "const          7.4306      0.499     14.879      0.000       6.452       8.409\n",
              "ma.L1          0.9992      4.296      0.233      0.816      -7.421       9.419\n",
              "sigma2         1.7457      7.412      0.236      0.814     -12.781      16.273\n",
              "===================================================================================\n",
              "Ljung-Box (L1) (Q):                   5.46   Jarque-Bera (JB):                10.68\n",
              "Prob(Q):                              0.02   Prob(JB):                         0.00\n",
              "Heteroskedasticity (H):               3.29   Skew:                             1.09\n",
              "Prob(H) (two-sided):                  0.03   Kurtosis:                         3.98\n",
              "===================================================================================\n",
              "\n",
              "Warnings:\n",
              "[1] Covariance matrix calculated using the outer product of gradients (complex-step).\n",
              "\"\"\""
            ],
            "text/html": [
              "<table class=\"simpletable\">\n",
              "<caption>SARIMAX Results</caption>\n",
              "<tr>\n",
              "  <th>Dep. Variable:</th>        <td>UnOfCA</td>      <th>  No. Observations:  </th>   <td>45</td>   \n",
              "</tr>\n",
              "<tr>\n",
              "  <th>Model:</th>            <td>ARIMA(0, 0, 1)</td>  <th>  Log Likelihood     </th> <td>-78.287</td>\n",
              "</tr>\n",
              "<tr>\n",
              "  <th>Date:</th>            <td>Wed, 23 Nov 2022</td> <th>  AIC                </th> <td>162.574</td>\n",
              "</tr>\n",
              "<tr>\n",
              "  <th>Time:</th>                <td>09:27:28</td>     <th>  BIC                </th> <td>167.994</td>\n",
              "</tr>\n",
              "<tr>\n",
              "  <th>Sample:</th>             <td>01-01-1976</td>    <th>  HQIC               </th> <td>164.594</td>\n",
              "</tr>\n",
              "<tr>\n",
              "  <th></th>                   <td>- 01-01-2020</td>   <th>                     </th>    <td> </td>   \n",
              "</tr>\n",
              "<tr>\n",
              "  <th>Covariance Type:</th>        <td>opg</td>       <th>                     </th>    <td> </td>   \n",
              "</tr>\n",
              "</table>\n",
              "<table class=\"simpletable\">\n",
              "<tr>\n",
              "     <td></td>       <th>coef</th>     <th>std err</th>      <th>z</th>      <th>P>|z|</th>  <th>[0.025</th>    <th>0.975]</th>  \n",
              "</tr>\n",
              "<tr>\n",
              "  <th>const</th>  <td>    7.4306</td> <td>    0.499</td> <td>   14.879</td> <td> 0.000</td> <td>    6.452</td> <td>    8.409</td>\n",
              "</tr>\n",
              "<tr>\n",
              "  <th>ma.L1</th>  <td>    0.9992</td> <td>    4.296</td> <td>    0.233</td> <td> 0.816</td> <td>   -7.421</td> <td>    9.419</td>\n",
              "</tr>\n",
              "<tr>\n",
              "  <th>sigma2</th> <td>    1.7457</td> <td>    7.412</td> <td>    0.236</td> <td> 0.814</td> <td>  -12.781</td> <td>   16.273</td>\n",
              "</tr>\n",
              "</table>\n",
              "<table class=\"simpletable\">\n",
              "<tr>\n",
              "  <th>Ljung-Box (L1) (Q):</th>     <td>5.46</td> <th>  Jarque-Bera (JB):  </th> <td>10.68</td>\n",
              "</tr>\n",
              "<tr>\n",
              "  <th>Prob(Q):</th>                <td>0.02</td> <th>  Prob(JB):          </th> <td>0.00</td> \n",
              "</tr>\n",
              "<tr>\n",
              "  <th>Heteroskedasticity (H):</th> <td>3.29</td> <th>  Skew:              </th> <td>1.09</td> \n",
              "</tr>\n",
              "<tr>\n",
              "  <th>Prob(H) (two-sided):</th>    <td>0.03</td> <th>  Kurtosis:          </th> <td>3.98</td> \n",
              "</tr>\n",
              "</table><br/><br/>Warnings:<br/>[1] Covariance matrix calculated using the outer product of gradients (complex-step)."
            ]
          },
          "metadata": {},
          "execution_count": 655
        }
      ]
    },
    {
      "cell_type": "code",
      "source": [
        "# p-value=0.02<0.05"
      ],
      "metadata": {
        "id": "6xIsCcY2eK0r"
      },
      "execution_count": 656,
      "outputs": []
    },
    {
      "cell_type": "code",
      "source": [
        "plt.plot(M12_fit.resid)"
      ],
      "metadata": {
        "colab": {
          "base_uri": "https://localhost:8080/",
          "height": 282
        },
        "id": "dRCbK_qAeOtM",
        "outputId": "70cb5f44-1b86-4233-ff57-dc503f58002e"
      },
      "execution_count": 657,
      "outputs": [
        {
          "output_type": "execute_result",
          "data": {
            "text/plain": [
              "[<matplotlib.lines.Line2D at 0x7fb83ac68f50>]"
            ]
          },
          "metadata": {},
          "execution_count": 657
        },
        {
          "output_type": "display_data",
          "data": {
            "text/plain": [
              "<Figure size 432x288 with 1 Axes>"
            ],
            "image/png": "[encoded data removed]"
          },
          "metadata": {
            "needs_background": "light"
          }
        }
      ]
    },
    {
      "cell_type": "code",
      "source": [
        "plot_acf(M12_fit.resid,lags=36,zero=False);"
      ],
      "metadata": {
        "colab": {
          "base_uri": "https://localhost:8080/",
          "height": 281
        },
        "id": "lJH7TqCDeRYU",
        "outputId": "7590355c-3d18-4e3d-80be-03a58ea9f880"
      },
      "execution_count": 658,
      "outputs": [
        {
          "output_type": "display_data",
          "data": {
            "text/plain": [
              "<Figure size 432x288 with 1 Axes>"
            ],
            "image/png": "[encoded data removed]"
          },
          "metadata": {
            "needs_background": "light"
          }
        }
      ]
    },
    {
      "cell_type": "code",
      "source": [
        "M12_fit.summary()"
      ],
      "metadata": {
        "colab": {
          "base_uri": "https://localhost:8080/",
          "height": 424
        },
        "id": "Rss3TpmxeUPi",
        "outputId": "abde2d41-f6ad-4dac-9da4-71d0dca0e4fa"
      },
      "execution_count": 659,
      "outputs": [
        {
          "output_type": "execute_result",
          "data": {
            "text/plain": [
              "<class 'statsmodels.iolib.summary.Summary'>\n",
              "\"\"\"\n",
              "                               SARIMAX Results                                \n",
              "==============================================================================\n",
              "Dep. Variable:                 UnOfCA   No. Observations:                   45\n",
              "Model:                 ARIMA(1, 0, 0)   Log Likelihood                 -79.775\n",
              "Date:                Wed, 23 Nov 2022   AIC                            165.549\n",
              "Time:                        09:27:29   BIC                            170.969\n",
              "Sample:                    01-01-1976   HQIC                           167.570\n",
              "                         - 01-01-2020                                         \n",
              "Covariance Type:                  opg                                         \n",
              "==============================================================================\n",
              "                 coef    std err          z      P>|z|      [0.025      0.975]\n",
              "------------------------------------------------------------------------------\n",
              "const          7.5670      1.171      6.463      0.000       5.272       9.862\n",
              "ar.L1          0.7396      0.121      6.113      0.000       0.502       0.977\n",
              "sigma2         1.9938      0.455      4.378      0.000       1.101       2.886\n",
              "===================================================================================\n",
              "Ljung-Box (L1) (Q):                   6.21   Jarque-Bera (JB):                49.73\n",
              "Prob(Q):                              0.01   Prob(JB):                         0.00\n",
              "Heteroskedasticity (H):               3.62   Skew:                             1.86\n",
              "Prob(H) (two-sided):                  0.02   Kurtosis:                         6.56\n",
              "===================================================================================\n",
              "\n",
              "Warnings:\n",
              "[1] Covariance matrix calculated using the outer product of gradients (complex-step).\n",
              "\"\"\""
            ],
            "text/html": [
              "<table class=\"simpletable\">\n",
              "<caption>SARIMAX Results</caption>\n",
              "<tr>\n",
              "  <th>Dep. Variable:</th>        <td>UnOfCA</td>      <th>  No. Observations:  </th>   <td>45</td>   \n",
              "</tr>\n",
              "<tr>\n",
              "  <th>Model:</th>            <td>ARIMA(1, 0, 0)</td>  <th>  Log Likelihood     </th> <td>-79.775</td>\n",
              "</tr>\n",
              "<tr>\n",
              "  <th>Date:</th>            <td>Wed, 23 Nov 2022</td> <th>  AIC                </th> <td>165.549</td>\n",
              "</tr>\n",
              "<tr>\n",
              "  <th>Time:</th>                <td>09:27:29</td>     <th>  BIC                </th> <td>170.969</td>\n",
              "</tr>\n",
              "<tr>\n",
              "  <th>Sample:</th>             <td>01-01-1976</td>    <th>  HQIC               </th> <td>167.570</td>\n",
              "</tr>\n",
              "<tr>\n",
              "  <th></th>                   <td>- 01-01-2020</td>   <th>                     </th>    <td> </td>   \n",
              "</tr>\n",
              "<tr>\n",
              "  <th>Covariance Type:</th>        <td>opg</td>       <th>                     </th>    <td> </td>   \n",
              "</tr>\n",
              "</table>\n",
              "<table class=\"simpletable\">\n",
              "<tr>\n",
              "     <td></td>       <th>coef</th>     <th>std err</th>      <th>z</th>      <th>P>|z|</th>  <th>[0.025</th>    <th>0.975]</th>  \n",
              "</tr>\n",
              "<tr>\n",
              "  <th>const</th>  <td>    7.5670</td> <td>    1.171</td> <td>    6.463</td> <td> 0.000</td> <td>    5.272</td> <td>    9.862</td>\n",
              "</tr>\n",
              "<tr>\n",
              "  <th>ar.L1</th>  <td>    0.7396</td> <td>    0.121</td> <td>    6.113</td> <td> 0.000</td> <td>    0.502</td> <td>    0.977</td>\n",
              "</tr>\n",
              "<tr>\n",
              "  <th>sigma2</th> <td>    1.9938</td> <td>    0.455</td> <td>    4.378</td> <td> 0.000</td> <td>    1.101</td> <td>    2.886</td>\n",
              "</tr>\n",
              "</table>\n",
              "<table class=\"simpletable\">\n",
              "<tr>\n",
              "  <th>Ljung-Box (L1) (Q):</th>     <td>6.21</td> <th>  Jarque-Bera (JB):  </th> <td>49.73</td>\n",
              "</tr>\n",
              "<tr>\n",
              "  <th>Prob(Q):</th>                <td>0.01</td> <th>  Prob(JB):          </th> <td>0.00</td> \n",
              "</tr>\n",
              "<tr>\n",
              "  <th>Heteroskedasticity (H):</th> <td>3.62</td> <th>  Skew:              </th> <td>1.86</td> \n",
              "</tr>\n",
              "<tr>\n",
              "  <th>Prob(H) (two-sided):</th>    <td>0.02</td> <th>  Kurtosis:          </th> <td>6.56</td> \n",
              "</tr>\n",
              "</table><br/><br/>Warnings:<br/>[1] Covariance matrix calculated using the outer product of gradients (complex-step)."
            ]
          },
          "metadata": {},
          "execution_count": 659
        }
      ]
    },
    {
      "cell_type": "code",
      "source": [
        "# p-value=0.01<0.05"
      ],
      "metadata": {
        "id": "hBTpu-LFedHl"
      },
      "execution_count": 660,
      "outputs": []
    },
    {
      "cell_type": "code",
      "source": [
        "plt.plot(M13_fit.resid)"
      ],
      "metadata": {
        "colab": {
          "base_uri": "https://localhost:8080/",
          "height": 282
        },
        "id": "pJ64QPhJePyj",
        "outputId": "9b3a0152-72d7-4df2-d07a-c198f9d68df4"
      },
      "execution_count": 661,
      "outputs": [
        {
          "output_type": "execute_result",
          "data": {
            "text/plain": [
              "[<matplotlib.lines.Line2D at 0x7fb83ab0d990>]"
            ]
          },
          "metadata": {},
          "execution_count": 661
        },
        {
          "output_type": "display_data",
          "data": {
            "text/plain": [
              "<Figure size 432x288 with 1 Axes>"
            ],
            "image/png": "[encoded data removed]"
          },
          "metadata": {
            "needs_background": "light"
          }
        }
      ]
    },
    {
      "cell_type": "code",
      "source": [
        "plot_acf(M13_fit.resid,lags=36,zero=False);"
      ],
      "metadata": {
        "colab": {
          "base_uri": "https://localhost:8080/",
          "height": 281
        },
        "id": "DFnZm6GHeSeb",
        "outputId": "e59fb133-905d-4557-e1c6-19deac8551fb"
      },
      "execution_count": 662,
      "outputs": [
        {
          "output_type": "display_data",
          "data": {
            "text/plain": [
              "<Figure size 432x288 with 1 Axes>"
            ],
            "image/png": "[encoded data removed]"
          },
          "metadata": {
            "needs_background": "light"
          }
        }
      ]
    },
    {
      "cell_type": "code",
      "source": [
        "M13_fit.summary()"
      ],
      "metadata": {
        "colab": {
          "base_uri": "https://localhost:8080/",
          "height": 445
        },
        "id": "ATLM0kzUeVSi",
        "outputId": "05218687-5323-421f-aba3-4d34a355b8a8"
      },
      "execution_count": 663,
      "outputs": [
        {
          "output_type": "execute_result",
          "data": {
            "text/plain": [
              "<class 'statsmodels.iolib.summary.Summary'>\n",
              "\"\"\"\n",
              "                               SARIMAX Results                                \n",
              "==============================================================================\n",
              "Dep. Variable:                 UnOfCA   No. Observations:                   45\n",
              "Model:                 ARIMA(1, 0, 1)   Log Likelihood                 -73.431\n",
              "Date:                Wed, 23 Nov 2022   AIC                            154.862\n",
              "Time:                        09:27:30   BIC                            162.089\n",
              "Sample:                    01-01-1976   HQIC                           157.556\n",
              "                         - 01-01-2020                                         \n",
              "Covariance Type:                  opg                                         \n",
              "==============================================================================\n",
              "                 coef    std err          z      P>|z|      [0.025      0.975]\n",
              "------------------------------------------------------------------------------\n",
              "const          7.6607      1.215      6.307      0.000       5.280      10.041\n",
              "ar.L1          0.5788      0.210      2.751      0.006       0.166       0.991\n",
              "ma.L1          0.7206      0.246      2.926      0.003       0.238       1.203\n",
              "sigma2         1.4694      0.324      4.542      0.000       0.835       2.104\n",
              "===================================================================================\n",
              "Ljung-Box (L1) (Q):                   0.39   Jarque-Bera (JB):               132.94\n",
              "Prob(Q):                              0.53   Prob(JB):                         0.00\n",
              "Heteroskedasticity (H):               3.46   Skew:                             2.45\n",
              "Prob(H) (two-sided):                  0.02   Kurtosis:                         9.85\n",
              "===================================================================================\n",
              "\n",
              "Warnings:\n",
              "[1] Covariance matrix calculated using the outer product of gradients (complex-step).\n",
              "\"\"\""
            ],
            "text/html": [
              "<table class=\"simpletable\">\n",
              "<caption>SARIMAX Results</caption>\n",
              "<tr>\n",
              "  <th>Dep. Variable:</th>        <td>UnOfCA</td>      <th>  No. Observations:  </th>   <td>45</td>   \n",
              "</tr>\n",
              "<tr>\n",
              "  <th>Model:</th>            <td>ARIMA(1, 0, 1)</td>  <th>  Log Likelihood     </th> <td>-73.431</td>\n",
              "</tr>\n",
              "<tr>\n",
              "  <th>Date:</th>            <td>Wed, 23 Nov 2022</td> <th>  AIC                </th> <td>154.862</td>\n",
              "</tr>\n",
              "<tr>\n",
              "  <th>Time:</th>                <td>09:27:30</td>     <th>  BIC                </th> <td>162.089</td>\n",
              "</tr>\n",
              "<tr>\n",
              "  <th>Sample:</th>             <td>01-01-1976</td>    <th>  HQIC               </th> <td>157.556</td>\n",
              "</tr>\n",
              "<tr>\n",
              "  <th></th>                   <td>- 01-01-2020</td>   <th>                     </th>    <td> </td>   \n",
              "</tr>\n",
              "<tr>\n",
              "  <th>Covariance Type:</th>        <td>opg</td>       <th>                     </th>    <td> </td>   \n",
              "</tr>\n",
              "</table>\n",
              "<table class=\"simpletable\">\n",
              "<tr>\n",
              "     <td></td>       <th>coef</th>     <th>std err</th>      <th>z</th>      <th>P>|z|</th>  <th>[0.025</th>    <th>0.975]</th>  \n",
              "</tr>\n",
              "<tr>\n",
              "  <th>const</th>  <td>    7.6607</td> <td>    1.215</td> <td>    6.307</td> <td> 0.000</td> <td>    5.280</td> <td>   10.041</td>\n",
              "</tr>\n",
              "<tr>\n",
              "  <th>ar.L1</th>  <td>    0.5788</td> <td>    0.210</td> <td>    2.751</td> <td> 0.006</td> <td>    0.166</td> <td>    0.991</td>\n",
              "</tr>\n",
              "<tr>\n",
              "  <th>ma.L1</th>  <td>    0.7206</td> <td>    0.246</td> <td>    2.926</td> <td> 0.003</td> <td>    0.238</td> <td>    1.203</td>\n",
              "</tr>\n",
              "<tr>\n",
              "  <th>sigma2</th> <td>    1.4694</td> <td>    0.324</td> <td>    4.542</td> <td> 0.000</td> <td>    0.835</td> <td>    2.104</td>\n",
              "</tr>\n",
              "</table>\n",
              "<table class=\"simpletable\">\n",
              "<tr>\n",
              "  <th>Ljung-Box (L1) (Q):</th>     <td>0.39</td> <th>  Jarque-Bera (JB):  </th> <td>132.94</td>\n",
              "</tr>\n",
              "<tr>\n",
              "  <th>Prob(Q):</th>                <td>0.53</td> <th>  Prob(JB):          </th>  <td>0.00</td> \n",
              "</tr>\n",
              "<tr>\n",
              "  <th>Heteroskedasticity (H):</th> <td>3.46</td> <th>  Skew:              </th>  <td>2.45</td> \n",
              "</tr>\n",
              "<tr>\n",
              "  <th>Prob(H) (two-sided):</th>    <td>0.02</td> <th>  Kurtosis:          </th>  <td>9.85</td> \n",
              "</tr>\n",
              "</table><br/><br/>Warnings:<br/>[1] Covariance matrix calculated using the outer product of gradients (complex-step)."
            ]
          },
          "metadata": {},
          "execution_count": 663
        }
      ]
    },
    {
      "cell_type": "code",
      "source": [
        "# Q15-df1 Ljung-Box\n",
        "# p-value=0.53>0.05\n",
        "# Therefore we choose model ARIMA(1,0,1) as the simplest model that provides an adequate description of the observed data."
      ],
      "metadata": {
        "id": "qgFCFN_meipS"
      },
      "execution_count": 664,
      "outputs": []
    },
    {
      "cell_type": "code",
      "source": [
        "# Q16-df1 AIC\n",
        "# AIC of 154.862 which is the smallest among the three models above\n",
        "# Therefore we choose model ARIMA(1,0,1) as the best model based on AIC value"
      ],
      "metadata": {
        "id": "Le9a_MLIo36x"
      },
      "execution_count": 665,
      "outputs": []
    },
    {
      "cell_type": "code",
      "source": [
        "plot_acf(df2,zero=False);"
      ],
      "metadata": {
        "colab": {
          "base_uri": "https://localhost:8080/",
          "height": 281
        },
        "id": "kW0w7TTpT82e",
        "outputId": "2b001afa-30c7-4a07-bbdc-0147fa77385c"
      },
      "execution_count": 666,
      "outputs": [
        {
          "output_type": "display_data",
          "data": {
            "text/plain": [
              "<Figure size 432x288 with 1 Axes>"
            ],
            "image/png": "[encoded data removed]"
          },
          "metadata": {
            "needs_background": "light"
          }
        }
      ]
    },
    {
      "cell_type": "code",
      "source": [
        "plot_pacf(df2,zero=False);"
      ],
      "metadata": {
        "colab": {
          "base_uri": "https://localhost:8080/",
          "height": 281
        },
        "id": "L6_WGGtNg-KG",
        "outputId": "d561fca7-5aa7-433e-9cf2-d1928a1c17f2"
      },
      "execution_count": 667,
      "outputs": [
        {
          "output_type": "display_data",
          "data": {
            "text/plain": [
              "<Figure size 432x288 with 1 Axes>"
            ],
            "image/png": "[encoded data removed]"
          },
          "metadata": {
            "needs_background": "light"
          }
        }
      ]
    },
    {
      "cell_type": "code",
      "source": [
        "M21 = sm.tsa.statespace.SARIMAX(df2['UnOfUS'],order=(0,1,0),seasonal_order=(0,0,1,12))\n",
        "M22 = sm.tsa.statespace.SARIMAX(df2['UnOfUS'],order=(1,1,1),seasonal_order=(0,0,1,12))\n",
        "M23 = sm.tsa.statespace.SARIMAX(df2['UnOfUS'],order=(2,1,2),seasonal_order=(0,0,1,12))"
      ],
      "metadata": {
        "colab": {
          "base_uri": "https://localhost:8080/"
        },
        "id": "Y-K0KIbny9ob",
        "outputId": "dd974d1b-b810-4f46-e72b-17d8933a8108"
      },
      "execution_count": 668,
      "outputs": [
        {
          "output_type": "stream",
          "name": "stderr",
          "text": [
            "/usr/local/lib/python3.7/dist-packages/statsmodels/tsa/base/tsa_model.py:471: ValueWarning: No frequency information was provided, so inferred frequency MS will be used.\n",
            "/usr/local/lib/python3.7/dist-packages/statsmodels/tsa/base/tsa_model.py:471: ValueWarning: No frequency information was provided, so inferred frequency MS will be used.\n",
            "/usr/local/lib/python3.7/dist-packages/statsmodels/tsa/base/tsa_model.py:471: ValueWarning: No frequency information was provided, so inferred frequency MS will be used.\n",
            "/usr/local/lib/python3.7/dist-packages/statsmodels/tsa/base/tsa_model.py:471: ValueWarning: No frequency information was provided, so inferred frequency MS will be used.\n",
            "/usr/local/lib/python3.7/dist-packages/statsmodels/tsa/base/tsa_model.py:471: ValueWarning: No frequency information was provided, so inferred frequency MS will be used.\n",
            "/usr/local/lib/python3.7/dist-packages/statsmodels/tsa/base/tsa_model.py:471: ValueWarning: No frequency information was provided, so inferred frequency MS will be used.\n"
          ]
        }
      ]
    },
    {
      "cell_type": "code",
      "source": [
        "M21_fit = M21.fit()\n",
        "M22_fit = M22.fit()\n",
        "M23_fit = M23.fit()"
      ],
      "metadata": {
        "colab": {
          "base_uri": "https://localhost:8080/"
        },
        "id": "k7W6f_-IqaNZ",
        "outputId": "d9af2c5e-f72d-4584-f734-250d7b3cb11a"
      },
      "execution_count": 669,
      "outputs": [
        {
          "output_type": "stream",
          "name": "stderr",
          "text": [
            "/usr/local/lib/python3.7/dist-packages/statsmodels/tsa/statespace/sarimax.py:966: UserWarning: Non-stationary starting autoregressive parameters found. Using zeros as starting parameters.\n",
            "/usr/local/lib/python3.7/dist-packages/statsmodels/tsa/statespace/sarimax.py:978: UserWarning: Non-invertible starting MA parameters found. Using zeros as starting parameters.\n"
          ]
        }
      ]
    },
    {
      "cell_type": "code",
      "source": [
        "plt.plot(M21_fit.resid)"
      ],
      "metadata": {
        "colab": {
          "base_uri": "https://localhost:8080/",
          "height": 282
        },
        "id": "EQJQXISZ0Nf_",
        "outputId": "7d94d9f5-b286-4934-bde9-6484da1f709a"
      },
      "execution_count": 670,
      "outputs": [
        {
          "output_type": "execute_result",
          "data": {
            "text/plain": [
              "[<matplotlib.lines.Line2D at 0x7fb83a8f1f90>]"
            ]
          },
          "metadata": {},
          "execution_count": 670
        },
        {
          "output_type": "display_data",
          "data": {
            "text/plain": [
              "<Figure size 432x288 with 1 Axes>"
            ],
            "image/png": "[encoded data removed]"
          },
          "metadata": {
            "needs_background": "light"
          }
        }
      ]
    },
    {
      "cell_type": "code",
      "source": [
        "plot_acf(M21_fit.resid,lags=36,zero=False);"
      ],
      "metadata": {
        "colab": {
          "base_uri": "https://localhost:8080/",
          "height": 281
        },
        "id": "OIaBbSq40S8J",
        "outputId": "02776de2-53a5-4008-9d0e-6f07851f74ac"
      },
      "execution_count": 671,
      "outputs": [
        {
          "output_type": "display_data",
          "data": {
            "text/plain": [
              "<Figure size 432x288 with 1 Axes>"
            ],
            "image/png": "[encoded data removed]"
          },
          "metadata": {
            "needs_background": "light"
          }
        }
      ]
    },
    {
      "cell_type": "code",
      "source": [
        "M21_fit.summary()"
      ],
      "metadata": {
        "colab": {
          "base_uri": "https://localhost:8080/",
          "height": 403
        },
        "id": "o2vygvq3hXd_",
        "outputId": "bfe1ed33-de85-4dc3-8e5a-7d8c6e45d7d7"
      },
      "execution_count": 672,
      "outputs": [
        {
          "output_type": "execute_result",
          "data": {
            "text/plain": [
              "<class 'statsmodels.iolib.summary.Summary'>\n",
              "\"\"\"\n",
              "                                      SARIMAX Results                                       \n",
              "============================================================================================\n",
              "Dep. Variable:                               UnOfUS   No. Observations:                  866\n",
              "Model:             SARIMAX(0, 1, 0)x(0, 0, [1], 12)   Log Likelihood                -371.514\n",
              "Date:                              Wed, 23 Nov 2022   AIC                            747.028\n",
              "Time:                                      09:27:41   BIC                            756.554\n",
              "Sample:                                  01-01-1948   HQIC                           750.674\n",
              "                                       - 02-01-2020                                         \n",
              "Covariance Type:                                opg                                         \n",
              "==============================================================================\n",
              "                 coef    std err          z      P>|z|      [0.025      0.975]\n",
              "------------------------------------------------------------------------------\n",
              "ma.S.L12       0.5213      0.026     19.761      0.000       0.470       0.573\n",
              "sigma2         0.1376      0.005     26.293      0.000       0.127       0.148\n",
              "===================================================================================\n",
              "Ljung-Box (L1) (Q):                  10.54   Jarque-Bera (JB):               128.06\n",
              "Prob(Q):                              0.00   Prob(JB):                         0.00\n",
              "Heteroskedasticity (H):               0.38   Skew:                             0.67\n",
              "Prob(H) (two-sided):                  0.00   Kurtosis:                         4.33\n",
              "===================================================================================\n",
              "\n",
              "Warnings:\n",
              "[1] Covariance matrix calculated using the outer product of gradients (complex-step).\n",
              "\"\"\""
            ],
            "text/html": [
              "<table class=\"simpletable\">\n",
              "<caption>SARIMAX Results</caption>\n",
              "<tr>\n",
              "  <th>Dep. Variable:</th>                <td>UnOfUS</td>              <th>  No. Observations:  </th>    <td>866</td>  \n",
              "</tr>\n",
              "<tr>\n",
              "  <th>Model:</th>           <td>SARIMAX(0, 1, 0)x(0, 0, [1], 12)</td> <th>  Log Likelihood     </th> <td>-371.514</td>\n",
              "</tr>\n",
              "<tr>\n",
              "  <th>Date:</th>                    <td>Wed, 23 Nov 2022</td>         <th>  AIC                </th>  <td>747.028</td>\n",
              "</tr>\n",
              "<tr>\n",
              "  <th>Time:</th>                        <td>09:27:41</td>             <th>  BIC                </th>  <td>756.554</td>\n",
              "</tr>\n",
              "<tr>\n",
              "  <th>Sample:</th>                     <td>01-01-1948</td>            <th>  HQIC               </th>  <td>750.674</td>\n",
              "</tr>\n",
              "<tr>\n",
              "  <th></th>                           <td>- 02-01-2020</td>           <th>                     </th>     <td> </td>   \n",
              "</tr>\n",
              "<tr>\n",
              "  <th>Covariance Type:</th>                <td>opg</td>               <th>                     </th>     <td> </td>   \n",
              "</tr>\n",
              "</table>\n",
              "<table class=\"simpletable\">\n",
              "<tr>\n",
              "      <td></td>        <th>coef</th>     <th>std err</th>      <th>z</th>      <th>P>|z|</th>  <th>[0.025</th>    <th>0.975]</th>  \n",
              "</tr>\n",
              "<tr>\n",
              "  <th>ma.S.L12</th> <td>    0.5213</td> <td>    0.026</td> <td>   19.761</td> <td> 0.000</td> <td>    0.470</td> <td>    0.573</td>\n",
              "</tr>\n",
              "<tr>\n",
              "  <th>sigma2</th>   <td>    0.1376</td> <td>    0.005</td> <td>   26.293</td> <td> 0.000</td> <td>    0.127</td> <td>    0.148</td>\n",
              "</tr>\n",
              "</table>\n",
              "<table class=\"simpletable\">\n",
              "<tr>\n",
              "  <th>Ljung-Box (L1) (Q):</th>     <td>10.54</td> <th>  Jarque-Bera (JB):  </th> <td>128.06</td>\n",
              "</tr>\n",
              "<tr>\n",
              "  <th>Prob(Q):</th>                <td>0.00</td>  <th>  Prob(JB):          </th>  <td>0.00</td> \n",
              "</tr>\n",
              "<tr>\n",
              "  <th>Heteroskedasticity (H):</th> <td>0.38</td>  <th>  Skew:              </th>  <td>0.67</td> \n",
              "</tr>\n",
              "<tr>\n",
              "  <th>Prob(H) (two-sided):</th>    <td>0.00</td>  <th>  Kurtosis:          </th>  <td>4.33</td> \n",
              "</tr>\n",
              "</table><br/><br/>Warnings:<br/>[1] Covariance matrix calculated using the outer product of gradients (complex-step)."
            ]
          },
          "metadata": {},
          "execution_count": 672
        }
      ]
    },
    {
      "cell_type": "code",
      "source": [
        "plt.plot(M22_fit.resid)"
      ],
      "metadata": {
        "colab": {
          "base_uri": "https://localhost:8080/",
          "height": 282
        },
        "id": "1_yRsqpbmlkk",
        "outputId": "f4d65aab-1829-4639-9c1c-b9e0401410f9"
      },
      "execution_count": 673,
      "outputs": [
        {
          "output_type": "execute_result",
          "data": {
            "text/plain": [
              "[<matplotlib.lines.Line2D at 0x7fb83a80b550>]"
            ]
          },
          "metadata": {},
          "execution_count": 673
        },
        {
          "output_type": "display_data",
          "data": {
            "text/plain": [
              "<Figure size 432x288 with 1 Axes>"
            ],
            "image/png": "[encoded data removed]"
          },
          "metadata": {
            "needs_background": "light"
          }
        }
      ]
    },
    {
      "cell_type": "code",
      "source": [
        "plot_acf(M22_fit.resid,lags=36,zero=False);"
      ],
      "metadata": {
        "colab": {
          "base_uri": "https://localhost:8080/",
          "height": 281
        },
        "id": "mHz29gtbmsJ1",
        "outputId": "f200eae0-0e30-424e-f6b3-5aa3147f9567"
      },
      "execution_count": 674,
      "outputs": [
        {
          "output_type": "display_data",
          "data": {
            "text/plain": [
              "<Figure size 432x288 with 1 Axes>"
            ],
            "image/png": "[encoded data removed]"
          },
          "metadata": {
            "needs_background": "light"
          }
        }
      ]
    },
    {
      "cell_type": "code",
      "source": [
        "M22_fit.summary()"
      ],
      "metadata": {
        "colab": {
          "base_uri": "https://localhost:8080/",
          "height": 445
        },
        "id": "_T8EpelrmaD2",
        "outputId": "8a2483ff-8ab4-4114-e16b-b740fb130311"
      },
      "execution_count": 675,
      "outputs": [
        {
          "output_type": "execute_result",
          "data": {
            "text/plain": [
              "<class 'statsmodels.iolib.summary.Summary'>\n",
              "\"\"\"\n",
              "                                     SARIMAX Results                                      \n",
              "==========================================================================================\n",
              "Dep. Variable:                             UnOfUS   No. Observations:                  866\n",
              "Model:             SARIMAX(1, 1, 1)x(0, 0, 1, 12)   Log Likelihood                -366.069\n",
              "Date:                            Wed, 23 Nov 2022   AIC                            740.139\n",
              "Time:                                    09:27:42   BIC                            759.190\n",
              "Sample:                                01-01-1948   HQIC                           747.430\n",
              "                                     - 02-01-2020                                         \n",
              "Covariance Type:                              opg                                         \n",
              "==============================================================================\n",
              "                 coef    std err          z      P>|z|      [0.025      0.975]\n",
              "------------------------------------------------------------------------------\n",
              "ar.L1          0.0941      0.295      0.319      0.750      -0.485       0.673\n",
              "ma.L1          0.0181      0.302      0.060      0.952      -0.574       0.610\n",
              "ma.S.L12       0.5251      0.026     19.867      0.000       0.473       0.577\n",
              "sigma2         0.1359      0.006     24.437      0.000       0.125       0.147\n",
              "===================================================================================\n",
              "Ljung-Box (L1) (Q):                   0.00   Jarque-Bera (JB):               107.85\n",
              "Prob(Q):                              0.97   Prob(JB):                         0.00\n",
              "Heteroskedasticity (H):               0.39   Skew:                             0.65\n",
              "Prob(H) (two-sided):                  0.00   Kurtosis:                         4.15\n",
              "===================================================================================\n",
              "\n",
              "Warnings:\n",
              "[1] Covariance matrix calculated using the outer product of gradients (complex-step).\n",
              "\"\"\""
            ],
            "text/html": [
              "<table class=\"simpletable\">\n",
              "<caption>SARIMAX Results</caption>\n",
              "<tr>\n",
              "  <th>Dep. Variable:</th>               <td>UnOfUS</td>             <th>  No. Observations:  </th>    <td>866</td>  \n",
              "</tr>\n",
              "<tr>\n",
              "  <th>Model:</th>           <td>SARIMAX(1, 1, 1)x(0, 0, 1, 12)</td> <th>  Log Likelihood     </th> <td>-366.069</td>\n",
              "</tr>\n",
              "<tr>\n",
              "  <th>Date:</th>                   <td>Wed, 23 Nov 2022</td>        <th>  AIC                </th>  <td>740.139</td>\n",
              "</tr>\n",
              "<tr>\n",
              "  <th>Time:</th>                       <td>09:27:42</td>            <th>  BIC                </th>  <td>759.190</td>\n",
              "</tr>\n",
              "<tr>\n",
              "  <th>Sample:</th>                    <td>01-01-1948</td>           <th>  HQIC               </th>  <td>747.430</td>\n",
              "</tr>\n",
              "<tr>\n",
              "  <th></th>                          <td>- 02-01-2020</td>          <th>                     </th>     <td> </td>   \n",
              "</tr>\n",
              "<tr>\n",
              "  <th>Covariance Type:</th>               <td>opg</td>              <th>                     </th>     <td> </td>   \n",
              "</tr>\n",
              "</table>\n",
              "<table class=\"simpletable\">\n",
              "<tr>\n",
              "      <td></td>        <th>coef</th>     <th>std err</th>      <th>z</th>      <th>P>|z|</th>  <th>[0.025</th>    <th>0.975]</th>  \n",
              "</tr>\n",
              "<tr>\n",
              "  <th>ar.L1</th>    <td>    0.0941</td> <td>    0.295</td> <td>    0.319</td> <td> 0.750</td> <td>   -0.485</td> <td>    0.673</td>\n",
              "</tr>\n",
              "<tr>\n",
              "  <th>ma.L1</th>    <td>    0.0181</td> <td>    0.302</td> <td>    0.060</td> <td> 0.952</td> <td>   -0.574</td> <td>    0.610</td>\n",
              "</tr>\n",
              "<tr>\n",
              "  <th>ma.S.L12</th> <td>    0.5251</td> <td>    0.026</td> <td>   19.867</td> <td> 0.000</td> <td>    0.473</td> <td>    0.577</td>\n",
              "</tr>\n",
              "<tr>\n",
              "  <th>sigma2</th>   <td>    0.1359</td> <td>    0.006</td> <td>   24.437</td> <td> 0.000</td> <td>    0.125</td> <td>    0.147</td>\n",
              "</tr>\n",
              "</table>\n",
              "<table class=\"simpletable\">\n",
              "<tr>\n",
              "  <th>Ljung-Box (L1) (Q):</th>     <td>0.00</td> <th>  Jarque-Bera (JB):  </th> <td>107.85</td>\n",
              "</tr>\n",
              "<tr>\n",
              "  <th>Prob(Q):</th>                <td>0.97</td> <th>  Prob(JB):          </th>  <td>0.00</td> \n",
              "</tr>\n",
              "<tr>\n",
              "  <th>Heteroskedasticity (H):</th> <td>0.39</td> <th>  Skew:              </th>  <td>0.65</td> \n",
              "</tr>\n",
              "<tr>\n",
              "  <th>Prob(H) (two-sided):</th>    <td>0.00</td> <th>  Kurtosis:          </th>  <td>4.15</td> \n",
              "</tr>\n",
              "</table><br/><br/>Warnings:<br/>[1] Covariance matrix calculated using the outer product of gradients (complex-step)."
            ]
          },
          "metadata": {},
          "execution_count": 675
        }
      ]
    },
    {
      "cell_type": "code",
      "source": [
        "# p-value=0.97 >0.05, this is adequate"
      ],
      "metadata": {
        "id": "aLtG7YvVmwm_"
      },
      "execution_count": 676,
      "outputs": []
    },
    {
      "cell_type": "code",
      "source": [
        "plt.plot(M23_fit.resid)"
      ],
      "metadata": {
        "colab": {
          "base_uri": "https://localhost:8080/",
          "height": 282
        },
        "id": "3ST7qTnfmn0H",
        "outputId": "109817bd-693d-48c1-bcaa-37556db9e747"
      },
      "execution_count": 677,
      "outputs": [
        {
          "output_type": "execute_result",
          "data": {
            "text/plain": [
              "[<matplotlib.lines.Line2D at 0x7fb83b458cd0>]"
            ]
          },
          "metadata": {},
          "execution_count": 677
        },
        {
          "output_type": "display_data",
          "data": {
            "text/plain": [
              "<Figure size 432x288 with 1 Axes>"
            ],
            "image/png": "[encoded data removed]"
          },
          "metadata": {
            "needs_background": "light"
          }
        }
      ]
    },
    {
      "cell_type": "code",
      "source": [
        "plot_acf(M23_fit.resid,lags=36,zero=False);"
      ],
      "metadata": {
        "colab": {
          "base_uri": "https://localhost:8080/",
          "height": 281
        },
        "id": "LoCBBNvomuMq",
        "outputId": "f0d46ba7-5367-4290-8294-ceabaa1206ba"
      },
      "execution_count": 678,
      "outputs": [
        {
          "output_type": "display_data",
          "data": {
            "text/plain": [
              "<Figure size 432x288 with 1 Axes>"
            ],
            "image/png": "[encoded data removed]"
          },
          "metadata": {
            "needs_background": "light"
          }
        }
      ]
    },
    {
      "cell_type": "code",
      "source": [
        "M23_fit.summary()"
      ],
      "metadata": {
        "colab": {
          "base_uri": "https://localhost:8080/",
          "height": 487
        },
        "id": "hxEkevdWmdNx",
        "outputId": "762efb29-f2e2-48a9-b894-6ad991a713f3"
      },
      "execution_count": 679,
      "outputs": [
        {
          "output_type": "execute_result",
          "data": {
            "text/plain": [
              "<class 'statsmodels.iolib.summary.Summary'>\n",
              "\"\"\"\n",
              "                                      SARIMAX Results                                       \n",
              "============================================================================================\n",
              "Dep. Variable:                               UnOfUS   No. Observations:                  866\n",
              "Model:             SARIMAX(2, 1, 2)x(0, 0, [1], 12)   Log Likelihood                -341.708\n",
              "Date:                              Wed, 23 Nov 2022   AIC                            695.415\n",
              "Time:                                      09:27:43   BIC                            723.992\n",
              "Sample:                                  01-01-1948   HQIC                           706.353\n",
              "                                       - 02-01-2020                                         \n",
              "Covariance Type:                                opg                                         \n",
              "==============================================================================\n",
              "                 coef    std err          z      P>|z|      [0.025      0.975]\n",
              "------------------------------------------------------------------------------\n",
              "ar.L1         -0.5871      0.060     -9.832      0.000      -0.704      -0.470\n",
              "ar.L2         -0.6809      0.057    -12.017      0.000      -0.792      -0.570\n",
              "ma.L1          0.7226      0.042     17.193      0.000       0.640       0.805\n",
              "ma.L2          0.8621      0.041     21.094      0.000       0.782       0.942\n",
              "ma.S.L12       0.5171      0.028     18.240      0.000       0.461       0.573\n",
              "sigma2         0.1284      0.005     25.404      0.000       0.119       0.138\n",
              "===================================================================================\n",
              "Ljung-Box (L1) (Q):                   0.03   Jarque-Bera (JB):               126.40\n",
              "Prob(Q):                              0.86   Prob(JB):                         0.00\n",
              "Heteroskedasticity (H):               0.39   Skew:                             0.72\n",
              "Prob(H) (two-sided):                  0.00   Kurtosis:                         4.20\n",
              "===================================================================================\n",
              "\n",
              "Warnings:\n",
              "[1] Covariance matrix calculated using the outer product of gradients (complex-step).\n",
              "\"\"\""
            ],
            "text/html": [
              "<table class=\"simpletable\">\n",
              "<caption>SARIMAX Results</caption>\n",
              "<tr>\n",
              "  <th>Dep. Variable:</th>                <td>UnOfUS</td>              <th>  No. Observations:  </th>    <td>866</td>  \n",
              "</tr>\n",
              "<tr>\n",
              "  <th>Model:</th>           <td>SARIMAX(2, 1, 2)x(0, 0, [1], 12)</td> <th>  Log Likelihood     </th> <td>-341.708</td>\n",
              "</tr>\n",
              "<tr>\n",
              "  <th>Date:</th>                    <td>Wed, 23 Nov 2022</td>         <th>  AIC                </th>  <td>695.415</td>\n",
              "</tr>\n",
              "<tr>\n",
              "  <th>Time:</th>                        <td>09:27:43</td>             <th>  BIC                </th>  <td>723.992</td>\n",
              "</tr>\n",
              "<tr>\n",
              "  <th>Sample:</th>                     <td>01-01-1948</td>            <th>  HQIC               </th>  <td>706.353</td>\n",
              "</tr>\n",
              "<tr>\n",
              "  <th></th>                           <td>- 02-01-2020</td>           <th>                     </th>     <td> </td>   \n",
              "</tr>\n",
              "<tr>\n",
              "  <th>Covariance Type:</th>                <td>opg</td>               <th>                     </th>     <td> </td>   \n",
              "</tr>\n",
              "</table>\n",
              "<table class=\"simpletable\">\n",
              "<tr>\n",
              "      <td></td>        <th>coef</th>     <th>std err</th>      <th>z</th>      <th>P>|z|</th>  <th>[0.025</th>    <th>0.975]</th>  \n",
              "</tr>\n",
              "<tr>\n",
              "  <th>ar.L1</th>    <td>   -0.5871</td> <td>    0.060</td> <td>   -9.832</td> <td> 0.000</td> <td>   -0.704</td> <td>   -0.470</td>\n",
              "</tr>\n",
              "<tr>\n",
              "  <th>ar.L2</th>    <td>   -0.6809</td> <td>    0.057</td> <td>  -12.017</td> <td> 0.000</td> <td>   -0.792</td> <td>   -0.570</td>\n",
              "</tr>\n",
              "<tr>\n",
              "  <th>ma.L1</th>    <td>    0.7226</td> <td>    0.042</td> <td>   17.193</td> <td> 0.000</td> <td>    0.640</td> <td>    0.805</td>\n",
              "</tr>\n",
              "<tr>\n",
              "  <th>ma.L2</th>    <td>    0.8621</td> <td>    0.041</td> <td>   21.094</td> <td> 0.000</td> <td>    0.782</td> <td>    0.942</td>\n",
              "</tr>\n",
              "<tr>\n",
              "  <th>ma.S.L12</th> <td>    0.5171</td> <td>    0.028</td> <td>   18.240</td> <td> 0.000</td> <td>    0.461</td> <td>    0.573</td>\n",
              "</tr>\n",
              "<tr>\n",
              "  <th>sigma2</th>   <td>    0.1284</td> <td>    0.005</td> <td>   25.404</td> <td> 0.000</td> <td>    0.119</td> <td>    0.138</td>\n",
              "</tr>\n",
              "</table>\n",
              "<table class=\"simpletable\">\n",
              "<tr>\n",
              "  <th>Ljung-Box (L1) (Q):</th>     <td>0.03</td> <th>  Jarque-Bera (JB):  </th> <td>126.40</td>\n",
              "</tr>\n",
              "<tr>\n",
              "  <th>Prob(Q):</th>                <td>0.86</td> <th>  Prob(JB):          </th>  <td>0.00</td> \n",
              "</tr>\n",
              "<tr>\n",
              "  <th>Heteroskedasticity (H):</th> <td>0.39</td> <th>  Skew:              </th>  <td>0.72</td> \n",
              "</tr>\n",
              "<tr>\n",
              "  <th>Prob(H) (two-sided):</th>    <td>0.00</td> <th>  Kurtosis:          </th>  <td>4.20</td> \n",
              "</tr>\n",
              "</table><br/><br/>Warnings:<br/>[1] Covariance matrix calculated using the outer product of gradients (complex-step)."
            ]
          },
          "metadata": {},
          "execution_count": 679
        }
      ]
    },
    {
      "cell_type": "code",
      "source": [
        "#Q15(Ljung-Box) --df2\n",
        "# p-value=0.86>0.05\n",
        "# We choose the model of SARIMAX(1,1,1)(0,0,1)[12] as the simpliest model that is adequate."
      ],
      "metadata": {
        "id": "Ly03OtrVnPcy"
      },
      "execution_count": 680,
      "outputs": []
    },
    {
      "cell_type": "code",
      "source": [
        "#Q16(AIC) --df2\n",
        "# We choose the model of SARIMAX(2,1,2)(0,0,1)[12] as the best model based on AIC model"
      ],
      "metadata": {
        "id": "VPfEzdrepP6Q"
      },
      "execution_count": 681,
      "outputs": []
    },
    {
      "cell_type": "markdown",
      "source": [
        "16. Select the best model using AIC and generate forecast for the next (Future: March 2020,….) 12 months for monthly series (US series) and the next 3 years (Future: 2020,2021,2022) for annual series (CA series). Assume current time stamp = February of 2020"
      ],
      "metadata": {
        "id": "IhZ-YUSnoXIx"
      }
    },
    {
      "cell_type": "code",
      "source": [
        "# Please see answers above."
      ],
      "metadata": {
        "id": "4rEM8C4coCEY"
      },
      "execution_count": 682,
      "outputs": []
    },
    {
      "cell_type": "code",
      "source": [
        "df1prediction = df1\n",
        "df1prediction = df1prediction.reset_index()\n",
        "df1new = pd.DataFrame([['2021-01-01',np.nan], ['2022-01-01',np.nan], ['2023-01-01',np.nan]],columns=['DATE', 'UnOfUS'])\n",
        "df1new['DATE'] = pd.to_datetime(df1new['DATE'])\n",
        "df1prediction = df1prediction.append(df1new)\n",
        "df1prediction.set_index('DATE', inplace=True)"
      ],
      "metadata": {
        "id": "Vu9uJaxm2ien"
      },
      "execution_count": 683,
      "outputs": []
    },
    {
      "cell_type": "code",
      "source": [
        "df1prediction['M13'] = M13_fit.fittedvalues"
      ],
      "metadata": {
        "id": "pEdBeD5Y3Bmi"
      },
      "execution_count": 684,
      "outputs": []
    },
    {
      "cell_type": "code",
      "source": [
        "df1prediction['Prediction'] = M13_fit.predict(start =\"2021-01-01\",end=\"2023-01-01\",dynamic=True)"
      ],
      "metadata": {
        "id": "BH-ZEj643Bmi"
      },
      "execution_count": 685,
      "outputs": []
    },
    {
      "cell_type": "code",
      "source": [
        "df2prediction = df2\n",
        "df2prediction = df2prediction.reset_index()\n",
        "df2new = pd.DataFrame([['2020-03-01',np.nan], ['2020-04-01',np.nan], ['2020-05-01',np.nan], ['2020-06-01',np.nan], ['2020-07-01',np.nan],['2020-08-01',np.nan],\n",
        "                       ['2020-09-01',np.nan], ['2020-10-01',np.nan],['2020-11-01',np.nan],['2020-12-01',np.nan],['2021-01-01',np.nan],['2021-02-01',np.nan]],columns=['DATE', 'UnOfUS'])\n",
        "df2new['DATE'] = pd.to_datetime(df2new['DATE'])\n",
        "df2prediction = df2prediction.append(df2new)\n",
        "df2prediction.set_index('DATE', inplace=True)"
      ],
      "metadata": {
        "id": "KHONy0pFBMYK"
      },
      "execution_count": 686,
      "outputs": []
    },
    {
      "cell_type": "code",
      "source": [
        "df2prediction['M23'] = M23_fit.fittedvalues"
      ],
      "metadata": {
        "id": "Hfn3P-emX6Lf"
      },
      "execution_count": 687,
      "outputs": []
    },
    {
      "cell_type": "code",
      "source": [
        "df2prediction['M22'] = M22_fit.fittedvalues"
      ],
      "metadata": {
        "id": "G-cDZrTMtUYO"
      },
      "execution_count": 688,
      "outputs": []
    },
    {
      "cell_type": "code",
      "source": [
        "df2prediction['Prediction'] = M23_fit.predict(start =\"2020-02-01\",end=\"2021-02-01\",dynamic=True)"
      ],
      "metadata": {
        "id": "9450nAHivJKZ"
      },
      "execution_count": 689,
      "outputs": []
    },
    {
      "cell_type": "markdown",
      "source": [
        "17. Plot each series (US and CA on separate graphs) and overlay fitted values and future forecasts."
      ],
      "metadata": {
        "id": "YhkcPPtwsfLS"
      }
    },
    {
      "cell_type": "code",
      "source": [
        "df1prediction['Time'] = range(1,49)"
      ],
      "metadata": {
        "id": "gOBluvU03c9k"
      },
      "execution_count": 690,
      "outputs": []
    },
    {
      "cell_type": "code",
      "source": [
        "(\n",
        "    ggplot(df1prediction,aes('Time','UnOfCA')) + geom_point() + geom_line()+ theme(figure_size=(14,5)) + \n",
        "    geom_point(aes('Time','M13'),color='red') + geom_line(aes('Time','M13'),color='red') +       # fitted/predicted values of regression model\n",
        "    geom_point(aes('Time','Prediction'),color='red') + geom_line(aes('Time','Prediction'),color='green') +\n",
        "    geom_vline(xintercept = len(df1))\n",
        ")"
      ],
      "metadata": {
        "colab": {
          "base_uri": "https://localhost:8080/",
          "height": 549
        },
        "id": "KjvFSuAA3k3R",
        "outputId": "30f629f1-3be0-4d31-c29e-49e3c32b69f8"
      },
      "execution_count": 691,
      "outputs": [
        {
          "output_type": "stream",
          "name": "stderr",
          "text": [
            "/usr/local/lib/python3.7/dist-packages/plotnine/layer.py:401: PlotnineWarning: geom_point : Removed 3 rows containing missing values.\n",
            "/usr/local/lib/python3.7/dist-packages/plotnine/geoms/geom_path.py:75: PlotnineWarning: geom_path: Removed 3 rows containing missing values.\n",
            "/usr/local/lib/python3.7/dist-packages/plotnine/layer.py:401: PlotnineWarning: geom_point : Removed 45 rows containing missing values.\n",
            "/usr/local/lib/python3.7/dist-packages/plotnine/geoms/geom_path.py:75: PlotnineWarning: geom_path: Removed 45 rows containing missing values.\n"
          ]
        },
        {
          "output_type": "display_data",
          "data": {
            "text/plain": [
              "<Figure size 1400x500 with 1 Axes>"
            ],
            "image/png": "[encoded data removed]"
          },
          "metadata": {}
        },
        {
          "output_type": "execute_result",
          "data": {
            "text/plain": [
              "<ggplot: (8776827126581)>"
            ]
          },
          "metadata": {},
          "execution_count": 691
        }
      ]
    },
    {
      "cell_type": "code",
      "source": [
        "df2prediction['Time'] = range(1,879)"
      ],
      "metadata": {
        "id": "r6lvwQBSbBBR"
      },
      "execution_count": 692,
      "outputs": []
    },
    {
      "cell_type": "code",
      "source": [
        "(\n",
        "    ggplot(df2prediction.iloc[759:,],aes('Time','UnOfUS')) + geom_point() + geom_line()+ theme(figure_size=(20,5)) + \n",
        "    geom_point(aes('Time','M23'),color='red') + geom_line(aes('Time','M23'),color='red') +       # fitted/predicted values of regression model\n",
        "    geom_point(aes('Time','Prediction'),color='green') + geom_line(aes('Time','Prediction'),color='green') +\n",
        "    geom_vline(xintercept = len(df2))\n",
        ")"
      ],
      "metadata": {
        "colab": {
          "base_uri": "https://localhost:8080/",
          "height": 523
        },
        "id": "WIoZHnoyafOY",
        "outputId": "282f6639-2b57-4d61-96c9-d99e3c34f1f5"
      },
      "execution_count": 693,
      "outputs": [
        {
          "output_type": "stream",
          "name": "stderr",
          "text": [
            "/usr/local/lib/python3.7/dist-packages/plotnine/layer.py:401: PlotnineWarning: geom_point : Removed 12 rows containing missing values.\n",
            "/usr/local/lib/python3.7/dist-packages/plotnine/geoms/geom_path.py:75: PlotnineWarning: geom_path: Removed 12 rows containing missing values.\n",
            "/usr/local/lib/python3.7/dist-packages/plotnine/layer.py:401: PlotnineWarning: geom_point : Removed 106 rows containing missing values.\n",
            "/usr/local/lib/python3.7/dist-packages/plotnine/geoms/geom_path.py:75: PlotnineWarning: geom_path: Removed 106 rows containing missing values.\n"
          ]
        },
        {
          "output_type": "display_data",
          "data": {
            "text/plain": [
              "<Figure size 2000x500 with 1 Axes>"
            ],
            "image/png": "[encoded data removed]"
          },
          "metadata": {}
        },
        {
          "output_type": "execute_result",
          "data": {
            "text/plain": [
              "<ggplot: (8776827359253)>"
            ]
          },
          "metadata": {},
          "execution_count": 693
        }
      ]
    },
    {
      "cell_type": "code",
      "source": [
        "# For your better visual experience, we select the latest 10 years data for fitted values and predictions. "
      ],
      "metadata": {
        "id": "jKNsJKsRsDwk"
      },
      "execution_count": 694,
      "outputs": []
    },
    {
      "cell_type": "markdown",
      "source": [
        "18. Report MAPE of the champion model for each series."
      ],
      "metadata": {
        "id": "E8pDZpmSb7fH"
      }
    },
    {
      "cell_type": "code",
      "source": [
        "def mape(actual,predicted):\n",
        "    return round(abs((actual - predicted)/actual).mean()*100,2)"
      ],
      "metadata": {
        "id": "cApTMpYIb-wm"
      },
      "execution_count": 695,
      "outputs": []
    },
    {
      "cell_type": "code",
      "source": [
        "def accuracy(actual,predicted,h=0):\n",
        "    n_train = len(actual) - h\n",
        "    accuracy_metrics = pd.DataFrame(columns=['MAPE(%)'],index=['Training set','Testing set'])\n",
        "    accuracy_metrics.loc['Training set','MAPE(%)'] = mape(actual[:n_train],predicted[:n_train])\n",
        "    if (h>0):\n",
        "        accuracy_metrics.loc['Testing set','MAPE(%)'] = mape(actual[n_train:],predicted[n_train:])\n",
        "    return accuracy_metrics"
      ],
      "metadata": {
        "id": "_St5ytwCcH01"
      },
      "execution_count": 696,
      "outputs": []
    },
    {
      "cell_type": "code",
      "source": [
        "# MAPE of the champion model for Annual CA Unemployment Rate"
      ],
      "metadata": {
        "id": "K7aD-F-Q3yRD"
      },
      "execution_count": 697,
      "outputs": []
    },
    {
      "cell_type": "code",
      "source": [
        "accuracy(actual=df1['UnOfCA'], predicted = df1prediction['M13'], h=12)"
      ],
      "metadata": {
        "colab": {
          "base_uri": "https://localhost:8080/",
          "height": 112
        },
        "id": "v9KVJmfN3xZX",
        "outputId": "29efcc54-19ce-41ae-9ac6-f60498522e1c"
      },
      "execution_count": 698,
      "outputs": [
        {
          "output_type": "execute_result",
          "data": {
            "text/plain": [
              "             MAPE(%)\n",
              "Training set    9.78\n",
              "Testing set    16.76"
            ],
            "text/html": [
              "\n",
              "  <div id=\"df-af6c3dbe-440f-4823-ab7f-546e00c61a35\">\n",
              "    <div class=\"colab-df-container\">\n",
              "      <div>\n",
              "<style scoped>\n",
              "    .dataframe tbody tr th:only-of-type {\n",
              "        vertical-align: middle;\n",
              "    }\n",
              "\n",
              "    .dataframe tbody tr th {\n",
              "        vertical-align: top;\n",
              "    }\n",
              "\n",
              "    .dataframe thead th {\n",
              "        text-align: right;\n",
              "    }\n",
              "</style>\n",
              "<table border=\"1\" class=\"dataframe\">\n",
              "  <thead>\n",
              "    <tr style=\"text-align: right;\">\n",
              "      <th></th>\n",
              "      <th>MAPE(%)</th>\n",
              "    </tr>\n",
              "  </thead>\n",
              "  <tbody>\n",
              "    <tr>\n",
              "      <th>Training set</th>\n",
              "      <td>9.78</td>\n",
              "    </tr>\n",
              "    <tr>\n",
              "      <th>Testing set</th>\n",
              "      <td>16.76</td>\n",
              "    </tr>\n",
              "  </tbody>\n",
              "</table>\n",
              "</div>\n",
              "      <button class=\"colab-df-convert\" onclick=\"convertToInteractive('df-af6c3dbe-440f-4823-ab7f-546e00c61a35')\"\n",
              "              title=\"Convert this dataframe to an interactive table.\"\n",
              "              style=\"display:none;\">\n",
              "        \n",
              "  <svg xmlns=\"http://www.w3.org/2000/svg\" height=\"24px\"viewBox=\"0 0 24 24\"\n",
              "       width=\"24px\">\n",
              "    <path d=\"M0 0h24v24H0V0z\" fill=\"none\"/>\n",
              "    <path d=\"M18.56 5.44l.94 2.06.94-2.06 2.06-.94-2.06-.94-.94-2.06-.94 2.06-2.06.94zm-11 1L8.5 8.5l.94-2.06 2.06-.94-2.06-.94L8.5 2.5l-.94 2.06-2.06.94zm10 10l.94 2.06.94-2.06 2.06-.94-2.06-.94-.94-2.06-.94 2.06-2.06.94z\"/><path d=\"M17.41 7.96l-1.37-1.37c-.4-.4-.92-.59-1.43-.59-.52 0-1.04.2-1.43.59L10.3 9.45l-7.72 7.72c-.78.78-.78 2.05 0 2.83L4 21.41c.39.39.9.59 1.41.59.51 0 1.02-.2 1.41-.59l7.78-7.78 2.81-2.81c.8-.78.8-2.07 0-2.86zM5.41 20L4 18.59l7.72-7.72 1.47 1.35L5.41 20z\"/>\n",
              "  </svg>\n",
              "      </button>\n",
              "      \n",
              "  <style>\n",
              "    .colab-df-container {\n",
              "      display:flex;\n",
              "      flex-wrap:wrap;\n",
              "      gap: 12px;\n",
              "    }\n",
              "\n",
              "    .colab-df-convert {\n",
              "      background-color: #E8F0FE;\n",
              "      border: none;\n",
              "      border-radius: 50%;\n",
              "      cursor: pointer;\n",
              "      display: none;\n",
              "      fill: #1967D2;\n",
              "      height: 32px;\n",
              "      padding: 0 0 0 0;\n",
              "      width: 32px;\n",
              "    }\n",
              "\n",
              "    .colab-df-convert:hover {\n",
              "      background-color: #E2EBFA;\n",
              "      box-shadow: 0px 1px 2px rgba(60, 64, 67, 0.3), 0px 1px 3px 1px rgba(60, 64, 67, 0.15);\n",
              "      fill: #174EA6;\n",
              "    }\n",
              "\n",
              "    [theme=dark] .colab-df-convert {\n",
              "      background-color: #3B4455;\n",
              "      fill: #D2E3FC;\n",
              "    }\n",
              "\n",
              "    [theme=dark] .colab-df-convert:hover {\n",
              "      background-color: #434B5C;\n",
              "      box-shadow: 0px 1px 3px 1px rgba(0, 0, 0, 0.15);\n",
              "      filter: drop-shadow(0px 1px 2px rgba(0, 0, 0, 0.3));\n",
              "      fill: #FFFFFF;\n",
              "    }\n",
              "  </style>\n",
              "\n",
              "      <script>\n",
              "        const buttonEl =\n",
              "          document.querySelector('#df-af6c3dbe-440f-4823-ab7f-546e00c61a35 button.colab-df-convert');\n",
              "        buttonEl.style.display =\n",
              "          google.colab.kernel.accessAllowed ? 'block' : 'none';\n",
              "\n",
              "        async function convertToInteractive(key) {\n",
              "          const element = document.querySelector('#df-af6c3dbe-440f-4823-ab7f-546e00c61a35');\n",
              "          const dataTable =\n",
              "            await google.colab.kernel.invokeFunction('convertToInteractive',\n",
              "                                                     [key], {});\n",
              "          if (!dataTable) return;\n",
              "\n",
              "          const docLinkHtml = 'Like what you see? Visit the ' +\n",
              "            '<a target=\"_blank\" href=https://colab.research.google.com/notebooks/data_table.ipynb>data table notebook</a>'\n",
              "            + ' to learn more about interactive tables.';\n",
              "          element.innerHTML = '';\n",
              "          dataTable['output_type'] = 'display_data';\n",
              "          await google.colab.output.renderOutput(dataTable, element);\n",
              "          const docLink = document.createElement('div');\n",
              "          docLink.innerHTML = docLinkHtml;\n",
              "          element.appendChild(docLink);\n",
              "        }\n",
              "      </script>\n",
              "    </div>\n",
              "  </div>\n",
              "  "
            ]
          },
          "metadata": {},
          "execution_count": 698
        }
      ]
    },
    {
      "cell_type": "code",
      "source": [
        "# MAPE of the champion model for Monthly US Unemployment Rate"
      ],
      "metadata": {
        "id": "eU5nQ4bScZ1F"
      },
      "execution_count": 699,
      "outputs": []
    },
    {
      "cell_type": "code",
      "source": [
        "accuracy(actual=df2['UnOfUS'], predicted = df2prediction['M23'], h=12)"
      ],
      "metadata": {
        "colab": {
          "base_uri": "https://localhost:8080/",
          "height": 112
        },
        "id": "R3yFa9h-cMzS",
        "outputId": "4e2891cc-a02c-472b-bfbf-705bfbe9d769"
      },
      "execution_count": 700,
      "outputs": [
        {
          "output_type": "execute_result",
          "data": {
            "text/plain": [
              "             MAPE(%)\n",
              "Training set    5.16\n",
              "Testing set     5.28"
            ],
            "text/html": [
              "\n",
              "  <div id=\"df-ce127892-74e3-4fbc-aad6-54a8079b11b6\">\n",
              "    <div class=\"colab-df-container\">\n",
              "      <div>\n",
              "<style scoped>\n",
              "    .dataframe tbody tr th:only-of-type {\n",
              "        vertical-align: middle;\n",
              "    }\n",
              "\n",
              "    .dataframe tbody tr th {\n",
              "        vertical-align: top;\n",
              "    }\n",
              "\n",
              "    .dataframe thead th {\n",
              "        text-align: right;\n",
              "    }\n",
              "</style>\n",
              "<table border=\"1\" class=\"dataframe\">\n",
              "  <thead>\n",
              "    <tr style=\"text-align: right;\">\n",
              "      <th></th>\n",
              "      <th>MAPE(%)</th>\n",
              "    </tr>\n",
              "  </thead>\n",
              "  <tbody>\n",
              "    <tr>\n",
              "      <th>Training set</th>\n",
              "      <td>5.16</td>\n",
              "    </tr>\n",
              "    <tr>\n",
              "      <th>Testing set</th>\n",
              "      <td>5.28</td>\n",
              "    </tr>\n",
              "  </tbody>\n",
              "</table>\n",
              "</div>\n",
              "      <button class=\"colab-df-convert\" onclick=\"convertToInteractive('df-ce127892-74e3-4fbc-aad6-54a8079b11b6')\"\n",
              "              title=\"Convert this dataframe to an interactive table.\"\n",
              "              style=\"display:none;\">\n",
              "        \n",
              "  <svg xmlns=\"http://www.w3.org/2000/svg\" height=\"24px\"viewBox=\"0 0 24 24\"\n",
              "       width=\"24px\">\n",
              "    <path d=\"M0 0h24v24H0V0z\" fill=\"none\"/>\n",
              "    <path d=\"M18.56 5.44l.94 2.06.94-2.06 2.06-.94-2.06-.94-.94-2.06-.94 2.06-2.06.94zm-11 1L8.5 8.5l.94-2.06 2.06-.94-2.06-.94L8.5 2.5l-.94 2.06-2.06.94zm10 10l.94 2.06.94-2.06 2.06-.94-2.06-.94-.94-2.06-.94 2.06-2.06.94z\"/><path d=\"M17.41 7.96l-1.37-1.37c-.4-.4-.92-.59-1.43-.59-.52 0-1.04.2-1.43.59L10.3 9.45l-7.72 7.72c-.78.78-.78 2.05 0 2.83L4 21.41c.39.39.9.59 1.41.59.51 0 1.02-.2 1.41-.59l7.78-7.78 2.81-2.81c.8-.78.8-2.07 0-2.86zM5.41 20L4 18.59l7.72-7.72 1.47 1.35L5.41 20z\"/>\n",
              "  </svg>\n",
              "      </button>\n",
              "      \n",
              "  <style>\n",
              "    .colab-df-container {\n",
              "      display:flex;\n",
              "      flex-wrap:wrap;\n",
              "      gap: 12px;\n",
              "    }\n",
              "\n",
              "    .colab-df-convert {\n",
              "      background-color: #E8F0FE;\n",
              "      border: none;\n",
              "      border-radius: 50%;\n",
              "      cursor: pointer;\n",
              "      display: none;\n",
              "      fill: #1967D2;\n",
              "      height: 32px;\n",
              "      padding: 0 0 0 0;\n",
              "      width: 32px;\n",
              "    }\n",
              "\n",
              "    .colab-df-convert:hover {\n",
              "      background-color: #E2EBFA;\n",
              "      box-shadow: 0px 1px 2px rgba(60, 64, 67, 0.3), 0px 1px 3px 1px rgba(60, 64, 67, 0.15);\n",
              "      fill: #174EA6;\n",
              "    }\n",
              "\n",
              "    [theme=dark] .colab-df-convert {\n",
              "      background-color: #3B4455;\n",
              "      fill: #D2E3FC;\n",
              "    }\n",
              "\n",
              "    [theme=dark] .colab-df-convert:hover {\n",
              "      background-color: #434B5C;\n",
              "      box-shadow: 0px 1px 3px 1px rgba(0, 0, 0, 0.15);\n",
              "      filter: drop-shadow(0px 1px 2px rgba(0, 0, 0, 0.3));\n",
              "      fill: #FFFFFF;\n",
              "    }\n",
              "  </style>\n",
              "\n",
              "      <script>\n",
              "        const buttonEl =\n",
              "          document.querySelector('#df-ce127892-74e3-4fbc-aad6-54a8079b11b6 button.colab-df-convert');\n",
              "        buttonEl.style.display =\n",
              "          google.colab.kernel.accessAllowed ? 'block' : 'none';\n",
              "\n",
              "        async function convertToInteractive(key) {\n",
              "          const element = document.querySelector('#df-ce127892-74e3-4fbc-aad6-54a8079b11b6');\n",
              "          const dataTable =\n",
              "            await google.colab.kernel.invokeFunction('convertToInteractive',\n",
              "                                                     [key], {});\n",
              "          if (!dataTable) return;\n",
              "\n",
              "          const docLinkHtml = 'Like what you see? Visit the ' +\n",
              "            '<a target=\"_blank\" href=https://colab.research.google.com/notebooks/data_table.ipynb>data table notebook</a>'\n",
              "            + ' to learn more about interactive tables.';\n",
              "          element.innerHTML = '';\n",
              "          dataTable['output_type'] = 'display_data';\n",
              "          await google.colab.output.renderOutput(dataTable, element);\n",
              "          const docLink = document.createElement('div');\n",
              "          docLink.innerHTML = docLinkHtml;\n",
              "          element.appendChild(docLink);\n",
              "        }\n",
              "      </script>\n",
              "    </div>\n",
              "  </div>\n",
              "  "
            ]
          },
          "metadata": {},
          "execution_count": 700
        }
      ]
    },
    {
      "cell_type": "code",
      "source": [
        "accuracy(actual=df2['UnOfUS'], predicted = df2prediction['M22'], h=12)"
      ],
      "metadata": {
        "colab": {
          "base_uri": "https://localhost:8080/",
          "height": 112
        },
        "id": "lSEeJvXZtKdd",
        "outputId": "99932428-fa10-4c22-f468-9d2b1bdb6fbf"
      },
      "execution_count": 701,
      "outputs": [
        {
          "output_type": "execute_result",
          "data": {
            "text/plain": [
              "             MAPE(%)\n",
              "Training set    5.29\n",
              "Testing set     5.23"
            ],
            "text/html": [
              "\n",
              "  <div id=\"df-999291e2-41ea-4842-baaa-93164bc3c4ef\">\n",
              "    <div class=\"colab-df-container\">\n",
              "      <div>\n",
              "<style scoped>\n",
              "    .dataframe tbody tr th:only-of-type {\n",
              "        vertical-align: middle;\n",
              "    }\n",
              "\n",
              "    .dataframe tbody tr th {\n",
              "        vertical-align: top;\n",
              "    }\n",
              "\n",
              "    .dataframe thead th {\n",
              "        text-align: right;\n",
              "    }\n",
              "</style>\n",
              "<table border=\"1\" class=\"dataframe\">\n",
              "  <thead>\n",
              "    <tr style=\"text-align: right;\">\n",
              "      <th></th>\n",
              "      <th>MAPE(%)</th>\n",
              "    </tr>\n",
              "  </thead>\n",
              "  <tbody>\n",
              "    <tr>\n",
              "      <th>Training set</th>\n",
              "      <td>5.29</td>\n",
              "    </tr>\n",
              "    <tr>\n",
              "      <th>Testing set</th>\n",
              "      <td>5.23</td>\n",
              "    </tr>\n",
              "  </tbody>\n",
              "</table>\n",
              "</div>\n",
              "      <button class=\"colab-df-convert\" onclick=\"convertToInteractive('df-999291e2-41ea-4842-baaa-93164bc3c4ef')\"\n",
              "              title=\"Convert this dataframe to an interactive table.\"\n",
              "              style=\"display:none;\">\n",
              "        \n",
              "  <svg xmlns=\"http://www.w3.org/2000/svg\" height=\"24px\"viewBox=\"0 0 24 24\"\n",
              "       width=\"24px\">\n",
              "    <path d=\"M0 0h24v24H0V0z\" fill=\"none\"/>\n",
              "    <path d=\"M18.56 5.44l.94 2.06.94-2.06 2.06-.94-2.06-.94-.94-2.06-.94 2.06-2.06.94zm-11 1L8.5 8.5l.94-2.06 2.06-.94-2.06-.94L8.5 2.5l-.94 2.06-2.06.94zm10 10l.94 2.06.94-2.06 2.06-.94-2.06-.94-.94-2.06-.94 2.06-2.06.94z\"/><path d=\"M17.41 7.96l-1.37-1.37c-.4-.4-.92-.59-1.43-.59-.52 0-1.04.2-1.43.59L10.3 9.45l-7.72 7.72c-.78.78-.78 2.05 0 2.83L4 21.41c.39.39.9.59 1.41.59.51 0 1.02-.2 1.41-.59l7.78-7.78 2.81-2.81c.8-.78.8-2.07 0-2.86zM5.41 20L4 18.59l7.72-7.72 1.47 1.35L5.41 20z\"/>\n",
              "  </svg>\n",
              "      </button>\n",
              "      \n",
              "  <style>\n",
              "    .colab-df-container {\n",
              "      display:flex;\n",
              "      flex-wrap:wrap;\n",
              "      gap: 12px;\n",
              "    }\n",
              "\n",
              "    .colab-df-convert {\n",
              "      background-color: #E8F0FE;\n",
              "      border: none;\n",
              "      border-radius: 50%;\n",
              "      cursor: pointer;\n",
              "      display: none;\n",
              "      fill: #1967D2;\n",
              "      height: 32px;\n",
              "      padding: 0 0 0 0;\n",
              "      width: 32px;\n",
              "    }\n",
              "\n",
              "    .colab-df-convert:hover {\n",
              "      background-color: #E2EBFA;\n",
              "      box-shadow: 0px 1px 2px rgba(60, 64, 67, 0.3), 0px 1px 3px 1px rgba(60, 64, 67, 0.15);\n",
              "      fill: #174EA6;\n",
              "    }\n",
              "\n",
              "    [theme=dark] .colab-df-convert {\n",
              "      background-color: #3B4455;\n",
              "      fill: #D2E3FC;\n",
              "    }\n",
              "\n",
              "    [theme=dark] .colab-df-convert:hover {\n",
              "      background-color: #434B5C;\n",
              "      box-shadow: 0px 1px 3px 1px rgba(0, 0, 0, 0.15);\n",
              "      filter: drop-shadow(0px 1px 2px rgba(0, 0, 0, 0.3));\n",
              "      fill: #FFFFFF;\n",
              "    }\n",
              "  </style>\n",
              "\n",
              "      <script>\n",
              "        const buttonEl =\n",
              "          document.querySelector('#df-999291e2-41ea-4842-baaa-93164bc3c4ef button.colab-df-convert');\n",
              "        buttonEl.style.display =\n",
              "          google.colab.kernel.accessAllowed ? 'block' : 'none';\n",
              "\n",
              "        async function convertToInteractive(key) {\n",
              "          const element = document.querySelector('#df-999291e2-41ea-4842-baaa-93164bc3c4ef');\n",
              "          const dataTable =\n",
              "            await google.colab.kernel.invokeFunction('convertToInteractive',\n",
              "                                                     [key], {});\n",
              "          if (!dataTable) return;\n",
              "\n",
              "          const docLinkHtml = 'Like what you see? Visit the ' +\n",
              "            '<a target=\"_blank\" href=https://colab.research.google.com/notebooks/data_table.ipynb>data table notebook</a>'\n",
              "            + ' to learn more about interactive tables.';\n",
              "          element.innerHTML = '';\n",
              "          dataTable['output_type'] = 'display_data';\n",
              "          await google.colab.output.renderOutput(dataTable, element);\n",
              "          const docLink = document.createElement('div');\n",
              "          docLink.innerHTML = docLinkHtml;\n",
              "          element.appendChild(docLink);\n",
              "        }\n",
              "      </script>\n",
              "    </div>\n",
              "  </div>\n",
              "  "
            ]
          },
          "metadata": {},
          "execution_count": 701
        }
      ]
    },
    {
      "cell_type": "code",
      "source": [
        "# Based on MAPE, testing set < training set, so we also consider M22 as the champion model."
      ],
      "metadata": {
        "id": "3PP-EqcNtehk"
      },
      "execution_count": 702,
      "outputs": []
    },
    {
      "cell_type": "markdown",
      "source": [
        "19. What is the best model using the auto arima function for each series?\n",
        "\n",
        "\n"
      ],
      "metadata": {
        "id": "52rr1bJnS2nL"
      }
    },
    {
      "cell_type": "code",
      "source": [
        "M1 = pmd.auto_arima(df1['UnOfCA'], start_p=1, d=None, start_q=0, max_p=2, max_d=1, max_q=2, #d=None means it will test itself to see if there is d or D\n",
        "                   start_P=0, D=None, start_Q=0, max_P=1, max_D=1, max_Q=1, max_order=10,\n",
        "                   trace = True)"
      ],
      "metadata": {
        "colab": {
          "base_uri": "https://localhost:8080/"
        },
        "id": "k7K967kp34aI",
        "outputId": "87315a86-af90-468c-d5ec-4261d64d69be"
      },
      "execution_count": 724,
      "outputs": [
        {
          "output_type": "stream",
          "name": "stdout",
          "text": [
            "Performing stepwise search to minimize aic\n",
            " ARIMA(1,0,0)(0,0,0)[0] intercept   : AIC=165.549, Time=0.07 sec\n",
            " ARIMA(0,0,0)(0,0,0)[0] intercept   : AIC=197.428, Time=0.02 sec\n",
            " ARIMA(0,0,1)(0,0,0)[0] intercept   : AIC=inf, Time=0.32 sec\n",
            " ARIMA(0,0,0)(0,0,0)[0]             : AIC=312.086, Time=0.04 sec\n",
            " ARIMA(2,0,0)(0,0,0)[0] intercept   : AIC=147.564, Time=0.11 sec\n",
            " ARIMA(2,0,1)(0,0,0)[0] intercept   : AIC=149.471, Time=0.10 sec\n",
            " ARIMA(1,0,1)(0,0,0)[0] intercept   : AIC=154.862, Time=0.07 sec\n",
            " ARIMA(2,0,0)(0,0,0)[0]             : AIC=165.595, Time=0.04 sec\n",
            "\n",
            "Best model:  ARIMA(2,0,0)(0,0,0)[0] intercept\n",
            "Total fit time: 0.800 seconds\n"
          ]
        }
      ]
    },
    {
      "cell_type": "code",
      "source": [
        "# Based on the auto arima function, the best model for df1 is: ARIMA(0,1,1)(0,0,0)[0]        "
      ],
      "metadata": {
        "id": "RE7rNJMc4PSc"
      },
      "execution_count": 704,
      "outputs": []
    },
    {
      "cell_type": "code",
      "source": [
        "M2 = pmd.auto_arima(df2, start_p=1, d=None, start_q=0, max_p=2, max_d=1, max_q=3, \n",
        "                   start_P=0, D=None, start_Q=0, max_P=2, max_D=1, max_Q=2, max_order=10, m=12,\n",
        "                   trace = True)"
      ],
      "metadata": {
        "colab": {
          "base_uri": "https://localhost:8080/"
        },
        "id": "HdHiWSG_S5ts",
        "outputId": "7a8f02a8-0a97-4fb7-ace1-51d2d87d11db"
      },
      "execution_count": 705,
      "outputs": [
        {
          "output_type": "stream",
          "name": "stdout",
          "text": [
            "Performing stepwise search to minimize aic\n",
            " ARIMA(1,1,0)(0,0,0)[12] intercept   : AIC=1122.014, Time=0.38 sec\n",
            " ARIMA(0,1,0)(0,0,0)[12] intercept   : AIC=1126.012, Time=0.42 sec\n",
            " ARIMA(1,1,0)(1,0,0)[12] intercept   : AIC=316.864, Time=2.80 sec\n",
            " ARIMA(0,1,1)(0,0,1)[12] intercept   : AIC=740.447, Time=2.11 sec\n",
            " ARIMA(0,1,0)(0,0,0)[12]             : AIC=1124.012, Time=0.27 sec\n",
            " ARIMA(1,1,0)(2,0,0)[12] intercept   : AIC=inf, Time=7.57 sec\n",
            " ARIMA(1,1,0)(1,0,1)[12] intercept   : AIC=2.268, Time=4.52 sec\n",
            " ARIMA(1,1,0)(0,0,1)[12] intercept   : AIC=740.149, Time=1.47 sec\n",
            " ARIMA(1,1,0)(2,0,1)[12] intercept   : AIC=3.921, Time=19.26 sec\n",
            " ARIMA(1,1,0)(1,0,2)[12] intercept   : AIC=3.910, Time=17.08 sec\n",
            " ARIMA(1,1,0)(0,0,2)[12] intercept   : AIC=548.977, Time=4.74 sec\n",
            " ARIMA(1,1,0)(2,0,2)[12] intercept   : AIC=5.680, Time=16.26 sec\n",
            " ARIMA(0,1,0)(1,0,1)[12] intercept   : AIC=23.570, Time=1.96 sec\n",
            " ARIMA(2,1,0)(1,0,1)[12] intercept   : AIC=-33.252, Time=4.76 sec\n",
            " ARIMA(2,1,0)(0,0,1)[12] intercept   : AIC=742.102, Time=1.15 sec\n",
            " ARIMA(2,1,0)(1,0,0)[12] intercept   : AIC=279.070, Time=3.39 sec\n",
            " ARIMA(2,1,0)(2,0,1)[12] intercept   : AIC=-31.179, Time=11.92 sec\n",
            " ARIMA(2,1,0)(1,0,2)[12] intercept   : AIC=-31.260, Time=10.49 sec\n",
            " ARIMA(2,1,0)(0,0,0)[12] intercept   : AIC=1108.898, Time=0.29 sec\n",
            " ARIMA(2,1,0)(0,0,2)[12] intercept   : AIC=544.929, Time=2.90 sec\n",
            " ARIMA(2,1,0)(2,0,0)[12] intercept   : AIC=inf, Time=5.90 sec\n",
            " ARIMA(2,1,0)(2,0,2)[12] intercept   : AIC=-29.908, Time=15.13 sec\n",
            " ARIMA(2,1,1)(1,0,1)[12] intercept   : AIC=-38.576, Time=5.80 sec\n",
            " ARIMA(2,1,1)(0,0,1)[12] intercept   : AIC=744.149, Time=1.77 sec\n",
            " ARIMA(2,1,1)(1,0,0)[12] intercept   : AIC=273.807, Time=2.58 sec\n",
            " ARIMA(2,1,1)(2,0,1)[12] intercept   : AIC=-34.031, Time=13.49 sec\n",
            " ARIMA(2,1,1)(1,0,2)[12] intercept   : AIC=-36.657, Time=13.49 sec\n",
            " ARIMA(2,1,1)(0,0,0)[12] intercept   : AIC=1078.108, Time=0.75 sec\n",
            " ARIMA(2,1,1)(0,0,2)[12] intercept   : AIC=544.402, Time=5.82 sec\n",
            " ARIMA(2,1,1)(2,0,0)[12] intercept   : AIC=90.694, Time=7.59 sec\n",
            " ARIMA(2,1,1)(2,0,2)[12] intercept   : AIC=-33.977, Time=14.43 sec\n",
            " ARIMA(1,1,1)(1,0,1)[12] intercept   : AIC=-34.721, Time=4.55 sec\n",
            " ARIMA(2,1,2)(1,0,1)[12] intercept   : AIC=9.142, Time=5.70 sec\n",
            " ARIMA(1,1,2)(1,0,1)[12] intercept   : AIC=-36.062, Time=5.02 sec\n",
            " ARIMA(2,1,1)(1,0,1)[12]             : AIC=-42.723, Time=2.40 sec\n",
            " ARIMA(2,1,1)(0,0,1)[12]             : AIC=742.152, Time=0.99 sec\n",
            " ARIMA(2,1,1)(1,0,0)[12]             : AIC=271.808, Time=2.19 sec\n",
            " ARIMA(2,1,1)(2,0,1)[12]             : AIC=-40.750, Time=6.78 sec\n",
            " ARIMA(2,1,1)(1,0,2)[12]             : AIC=-40.750, Time=5.79 sec\n",
            " ARIMA(2,1,1)(0,0,0)[12]             : AIC=1076.109, Time=0.35 sec\n",
            " ARIMA(2,1,1)(0,0,2)[12]             : AIC=542.404, Time=2.98 sec\n",
            " ARIMA(2,1,1)(2,0,0)[12]             : AIC=88.708, Time=2.25 sec\n",
            " ARIMA(2,1,1)(2,0,2)[12]             : AIC=-39.655, Time=9.66 sec\n",
            " ARIMA(1,1,1)(1,0,1)[12]             : AIC=-37.394, Time=2.82 sec\n",
            " ARIMA(2,1,0)(1,0,1)[12]             : AIC=-35.252, Time=3.39 sec\n",
            " ARIMA(2,1,2)(1,0,1)[12]             : AIC=-32.048, Time=5.59 sec\n",
            " ARIMA(1,1,0)(1,0,1)[12]             : AIC=0.268, Time=1.26 sec\n",
            " ARIMA(1,1,2)(1,0,1)[12]             : AIC=-42.277, Time=2.50 sec\n",
            "\n",
            "Best model:  ARIMA(2,1,1)(1,0,1)[12]          \n",
            "Total fit time: 264.880 seconds\n"
          ]
        }
      ]
    },
    {
      "cell_type": "code",
      "source": [
        "# Based on the auto arima function, the best model for df2 is:  ARIMA(2,1,1)(1,0,1)[12]"
      ],
      "metadata": {
        "id": "-5BZd1KLczFK"
      },
      "execution_count": 706,
      "outputs": []
    },
    {
      "cell_type": "markdown",
      "source": [
        "20. Are the best auto models adequate? Discuss with reference to residual plots, residual autocorrelations, and the Box test."
      ],
      "metadata": {
        "id": "B8Yjkdw2dxcN"
      }
    },
    {
      "cell_type": "code",
      "source": [
        "plt.plot(M1.resid())"
      ],
      "metadata": {
        "colab": {
          "base_uri": "https://localhost:8080/",
          "height": 282
        },
        "outputId": "f058fd4d-f214-4203-9e5d-b7a59acdbc4c",
        "id": "lrF4fb0N46VN"
      },
      "execution_count": 725,
      "outputs": [
        {
          "output_type": "execute_result",
          "data": {
            "text/plain": [
              "[<matplotlib.lines.Line2D at 0x7fb83ab4dbd0>]"
            ]
          },
          "metadata": {},
          "execution_count": 725
        },
        {
          "output_type": "display_data",
          "data": {
            "text/plain": [
              "<Figure size 432x288 with 1 Axes>"
            ],
            "image/png": "[encoded data removed]"
          },
          "metadata": {
            "needs_background": "light"
          }
        }
      ]
    },
    {
      "cell_type": "code",
      "source": [
        "plot_acf(M1.resid(),lags=36,zero=False);"
      ],
      "metadata": {
        "colab": {
          "base_uri": "https://localhost:8080/",
          "height": 281
        },
        "outputId": "4af1842e-9765-4086-b43b-de4744f890f4",
        "id": "54lLilGK46VN"
      },
      "execution_count": 726,
      "outputs": [
        {
          "output_type": "display_data",
          "data": {
            "text/plain": [
              "<Figure size 432x288 with 1 Axes>"
            ],
            "image/png": "[encoded data removed]"
          },
          "metadata": {
            "needs_background": "light"
          }
        }
      ]
    },
    {
      "cell_type": "code",
      "source": [
        "print(M1.summary())"
      ],
      "metadata": {
        "colab": {
          "base_uri": "https://localhost:8080/"
        },
        "id": "MoNvdM36wdI2",
        "outputId": "eec6de04-2c87-4d30-b9dd-3fbac3064f98"
      },
      "execution_count": 727,
      "outputs": [
        {
          "output_type": "stream",
          "name": "stdout",
          "text": [
            "                               SARIMAX Results                                \n",
            "==============================================================================\n",
            "Dep. Variable:                      y   No. Observations:                   45\n",
            "Model:               SARIMAX(2, 0, 0)   Log Likelihood                 -69.782\n",
            "Date:                Wed, 23 Nov 2022   AIC                            147.564\n",
            "Time:                        09:33:57   BIC                            154.791\n",
            "Sample:                    01-01-1976   HQIC                           150.258\n",
            "                         - 01-01-2020                                         \n",
            "Covariance Type:                  opg                                         \n",
            "==============================================================================\n",
            "                 coef    std err          z      P>|z|      [0.025      0.975]\n",
            "------------------------------------------------------------------------------\n",
            "intercept      2.9901      1.029      2.907      0.004       0.974       5.006\n",
            "ar.L1          1.3246      0.161      8.226      0.000       1.009       1.640\n",
            "ar.L2         -0.7208      0.184     -3.919      0.000      -1.081      -0.360\n",
            "sigma2         1.2349      0.285      4.334      0.000       0.676       1.793\n",
            "===================================================================================\n",
            "Ljung-Box (L1) (Q):                   0.00   Jarque-Bera (JB):               121.23\n",
            "Prob(Q):                              0.99   Prob(JB):                         0.00\n",
            "Heteroskedasticity (H):               3.07   Skew:                             2.25\n",
            "Prob(H) (two-sided):                  0.04   Kurtosis:                         9.67\n",
            "===================================================================================\n",
            "\n",
            "Warnings:\n",
            "[1] Covariance matrix calculated using the outer product of gradients (complex-step).\n"
          ]
        }
      ]
    },
    {
      "cell_type": "code",
      "source": [
        "plt.plot(M2.resid())"
      ],
      "metadata": {
        "colab": {
          "base_uri": "https://localhost:8080/",
          "height": 282
        },
        "id": "EweTOTFedWkG",
        "outputId": "ef4be5a3-9d73-4259-90b0-7461c91830f0"
      },
      "execution_count": 710,
      "outputs": [
        {
          "output_type": "execute_result",
          "data": {
            "text/plain": [
              "[<matplotlib.lines.Line2D at 0x7fb83c11c210>]"
            ]
          },
          "metadata": {},
          "execution_count": 710
        },
        {
          "output_type": "display_data",
          "data": {
            "text/plain": [
              "<Figure size 432x288 with 1 Axes>"
            ],
            "image/png": "[encoded data removed]"
          },
          "metadata": {
            "needs_background": "light"
          }
        }
      ]
    },
    {
      "cell_type": "code",
      "source": [
        "plot_acf(M2.resid(),lags=36,zero=False);"
      ],
      "metadata": {
        "colab": {
          "base_uri": "https://localhost:8080/",
          "height": 281
        },
        "id": "lBsLdVYrc-n0",
        "outputId": "38ee14be-9923-45d4-f59b-5203ff2239a5"
      },
      "execution_count": 711,
      "outputs": [
        {
          "output_type": "display_data",
          "data": {
            "text/plain": [
              "<Figure size 432x288 with 1 Axes>"
            ],
            "image/png": "[encoded data removed]"
          },
          "metadata": {
            "needs_background": "light"
          }
        }
      ]
    },
    {
      "cell_type": "code",
      "source": [
        "print(M2.summary())"
      ],
      "metadata": {
        "colab": {
          "base_uri": "https://localhost:8080/"
        },
        "id": "CLCe5hYkf58c",
        "outputId": "48e7a324-d691-45eb-ff92-c72eca226990"
      },
      "execution_count": 712,
      "outputs": [
        {
          "output_type": "stream",
          "name": "stdout",
          "text": [
            "                                     SARIMAX Results                                      \n",
            "==========================================================================================\n",
            "Dep. Variable:                                  y   No. Observations:                  866\n",
            "Model:             SARIMAX(2, 1, 1)x(1, 0, 1, 12)   Log Likelihood                  27.361\n",
            "Date:                            Wed, 23 Nov 2022   AIC                            -42.723\n",
            "Time:                                    09:32:16   BIC                            -14.146\n",
            "Sample:                                01-01-1948   HQIC                           -31.785\n",
            "                                     - 02-01-2020                                         \n",
            "Covariance Type:                              opg                                         \n",
            "==============================================================================\n",
            "                 coef    std err          z      P>|z|      [0.025      0.975]\n",
            "------------------------------------------------------------------------------\n",
            "ar.L1          0.5938      0.100      5.957      0.000       0.398       0.789\n",
            "ar.L2          0.1270      0.042      3.015      0.003       0.044       0.210\n",
            "ma.L1         -0.4872      0.100     -4.852      0.000      -0.684      -0.290\n",
            "ar.S.L12       0.9923      0.002    439.387      0.000       0.988       0.997\n",
            "ma.S.L12      -0.7639      0.022    -34.548      0.000      -0.807      -0.721\n",
            "sigma2         0.0533      0.002     26.437      0.000       0.049       0.057\n",
            "===================================================================================\n",
            "Ljung-Box (L1) (Q):                   0.00   Jarque-Bera (JB):               103.45\n",
            "Prob(Q):                              0.95   Prob(JB):                         0.00\n",
            "Heteroskedasticity (H):               0.33   Skew:                             0.34\n",
            "Prob(H) (two-sided):                  0.00   Kurtosis:                         4.56\n",
            "===================================================================================\n",
            "\n",
            "Warnings:\n",
            "[1] Covariance matrix calculated using the outer product of gradients (complex-step).\n"
          ]
        }
      ]
    },
    {
      "cell_type": "markdown",
      "source": [
        "21. Report MAPE of the best auto arima model for each series"
      ],
      "metadata": {
        "id": "QZL2OkACfr54"
      }
    },
    {
      "cell_type": "code",
      "source": [
        "M1_fit = M1.fittedvalues()"
      ],
      "metadata": {
        "id": "QxaN7xHz5BJI"
      },
      "execution_count": 728,
      "outputs": []
    },
    {
      "cell_type": "code",
      "source": [
        "df1['M1'] = M1_fit"
      ],
      "metadata": {
        "id": "tnghViyk5BJI"
      },
      "execution_count": 729,
      "outputs": []
    },
    {
      "cell_type": "code",
      "source": [
        "accuracy(actual=df1['UnOfCA'], predicted = df1['M1'], h=12)"
      ],
      "metadata": {
        "colab": {
          "base_uri": "https://localhost:8080/",
          "height": 112
        },
        "outputId": "982fddf2-7cf8-42f5-cda3-e1b00adf4800",
        "id": "W3FxHzOX5BJI"
      },
      "execution_count": 730,
      "outputs": [
        {
          "output_type": "execute_result",
          "data": {
            "text/plain": [
              "             MAPE(%)\n",
              "Training set    9.38\n",
              "Testing set    15.09"
            ],
            "text/html": [
              "\n",
              "  <div id=\"df-8ba36702-0b71-465a-bf7e-b77e486e2fe3\">\n",
              "    <div class=\"colab-df-container\">\n",
              "      <div>\n",
              "<style scoped>\n",
              "    .dataframe tbody tr th:only-of-type {\n",
              "        vertical-align: middle;\n",
              "    }\n",
              "\n",
              "    .dataframe tbody tr th {\n",
              "        vertical-align: top;\n",
              "    }\n",
              "\n",
              "    .dataframe thead th {\n",
              "        text-align: right;\n",
              "    }\n",
              "</style>\n",
              "<table border=\"1\" class=\"dataframe\">\n",
              "  <thead>\n",
              "    <tr style=\"text-align: right;\">\n",
              "      <th></th>\n",
              "      <th>MAPE(%)</th>\n",
              "    </tr>\n",
              "  </thead>\n",
              "  <tbody>\n",
              "    <tr>\n",
              "      <th>Training set</th>\n",
              "      <td>9.38</td>\n",
              "    </tr>\n",
              "    <tr>\n",
              "      <th>Testing set</th>\n",
              "      <td>15.09</td>\n",
              "    </tr>\n",
              "  </tbody>\n",
              "</table>\n",
              "</div>\n",
              "      <button class=\"colab-df-convert\" onclick=\"convertToInteractive('df-8ba36702-0b71-465a-bf7e-b77e486e2fe3')\"\n",
              "              title=\"Convert this dataframe to an interactive table.\"\n",
              "              style=\"display:none;\">\n",
              "        \n",
              "  <svg xmlns=\"http://www.w3.org/2000/svg\" height=\"24px\"viewBox=\"0 0 24 24\"\n",
              "       width=\"24px\">\n",
              "    <path d=\"M0 0h24v24H0V0z\" fill=\"none\"/>\n",
              "    <path d=\"M18.56 5.44l.94 2.06.94-2.06 2.06-.94-2.06-.94-.94-2.06-.94 2.06-2.06.94zm-11 1L8.5 8.5l.94-2.06 2.06-.94-2.06-.94L8.5 2.5l-.94 2.06-2.06.94zm10 10l.94 2.06.94-2.06 2.06-.94-2.06-.94-.94-2.06-.94 2.06-2.06.94z\"/><path d=\"M17.41 7.96l-1.37-1.37c-.4-.4-.92-.59-1.43-.59-.52 0-1.04.2-1.43.59L10.3 9.45l-7.72 7.72c-.78.78-.78 2.05 0 2.83L4 21.41c.39.39.9.59 1.41.59.51 0 1.02-.2 1.41-.59l7.78-7.78 2.81-2.81c.8-.78.8-2.07 0-2.86zM5.41 20L4 18.59l7.72-7.72 1.47 1.35L5.41 20z\"/>\n",
              "  </svg>\n",
              "      </button>\n",
              "      \n",
              "  <style>\n",
              "    .colab-df-container {\n",
              "      display:flex;\n",
              "      flex-wrap:wrap;\n",
              "      gap: 12px;\n",
              "    }\n",
              "\n",
              "    .colab-df-convert {\n",
              "      background-color: #E8F0FE;\n",
              "      border: none;\n",
              "      border-radius: 50%;\n",
              "      cursor: pointer;\n",
              "      display: none;\n",
              "      fill: #1967D2;\n",
              "      height: 32px;\n",
              "      padding: 0 0 0 0;\n",
              "      width: 32px;\n",
              "    }\n",
              "\n",
              "    .colab-df-convert:hover {\n",
              "      background-color: #E2EBFA;\n",
              "      box-shadow: 0px 1px 2px rgba(60, 64, 67, 0.3), 0px 1px 3px 1px rgba(60, 64, 67, 0.15);\n",
              "      fill: #174EA6;\n",
              "    }\n",
              "\n",
              "    [theme=dark] .colab-df-convert {\n",
              "      background-color: #3B4455;\n",
              "      fill: #D2E3FC;\n",
              "    }\n",
              "\n",
              "    [theme=dark] .colab-df-convert:hover {\n",
              "      background-color: #434B5C;\n",
              "      box-shadow: 0px 1px 3px 1px rgba(0, 0, 0, 0.15);\n",
              "      filter: drop-shadow(0px 1px 2px rgba(0, 0, 0, 0.3));\n",
              "      fill: #FFFFFF;\n",
              "    }\n",
              "  </style>\n",
              "\n",
              "      <script>\n",
              "        const buttonEl =\n",
              "          document.querySelector('#df-8ba36702-0b71-465a-bf7e-b77e486e2fe3 button.colab-df-convert');\n",
              "        buttonEl.style.display =\n",
              "          google.colab.kernel.accessAllowed ? 'block' : 'none';\n",
              "\n",
              "        async function convertToInteractive(key) {\n",
              "          const element = document.querySelector('#df-8ba36702-0b71-465a-bf7e-b77e486e2fe3');\n",
              "          const dataTable =\n",
              "            await google.colab.kernel.invokeFunction('convertToInteractive',\n",
              "                                                     [key], {});\n",
              "          if (!dataTable) return;\n",
              "\n",
              "          const docLinkHtml = 'Like what you see? Visit the ' +\n",
              "            '<a target=\"_blank\" href=https://colab.research.google.com/notebooks/data_table.ipynb>data table notebook</a>'\n",
              "            + ' to learn more about interactive tables.';\n",
              "          element.innerHTML = '';\n",
              "          dataTable['output_type'] = 'display_data';\n",
              "          await google.colab.output.renderOutput(dataTable, element);\n",
              "          const docLink = document.createElement('div');\n",
              "          docLink.innerHTML = docLinkHtml;\n",
              "          element.appendChild(docLink);\n",
              "        }\n",
              "      </script>\n",
              "    </div>\n",
              "  </div>\n",
              "  "
            ]
          },
          "metadata": {},
          "execution_count": 730
        }
      ]
    },
    {
      "cell_type": "code",
      "source": [
        "M2_fit = M2.fittedvalues()"
      ],
      "metadata": {
        "id": "fs40_EPXd3vo"
      },
      "execution_count": 716,
      "outputs": []
    },
    {
      "cell_type": "code",
      "source": [
        "df2['M2'] = M2_fit"
      ],
      "metadata": {
        "id": "LYoG2n9geCYL"
      },
      "execution_count": 717,
      "outputs": []
    },
    {
      "cell_type": "code",
      "source": [
        "accuracy(actual=df2['UnOfUS'], predicted = df2['M2'], h=12)"
      ],
      "metadata": {
        "colab": {
          "base_uri": "https://localhost:8080/",
          "height": 112
        },
        "id": "oC9fY3pTd2M9",
        "outputId": "7a7facae-3d6b-490b-8aea-af8176c05622"
      },
      "execution_count": 718,
      "outputs": [
        {
          "output_type": "execute_result",
          "data": {
            "text/plain": [
              "             MAPE(%)\n",
              "Training set    3.58\n",
              "Testing set     2.25"
            ],
            "text/html": [
              "\n",
              "  <div id=\"df-3dffe5c4-ba6c-4768-a36d-201165fe7200\">\n",
              "    <div class=\"colab-df-container\">\n",
              "      <div>\n",
              "<style scoped>\n",
              "    .dataframe tbody tr th:only-of-type {\n",
              "        vertical-align: middle;\n",
              "    }\n",
              "\n",
              "    .dataframe tbody tr th {\n",
              "        vertical-align: top;\n",
              "    }\n",
              "\n",
              "    .dataframe thead th {\n",
              "        text-align: right;\n",
              "    }\n",
              "</style>\n",
              "<table border=\"1\" class=\"dataframe\">\n",
              "  <thead>\n",
              "    <tr style=\"text-align: right;\">\n",
              "      <th></th>\n",
              "      <th>MAPE(%)</th>\n",
              "    </tr>\n",
              "  </thead>\n",
              "  <tbody>\n",
              "    <tr>\n",
              "      <th>Training set</th>\n",
              "      <td>3.58</td>\n",
              "    </tr>\n",
              "    <tr>\n",
              "      <th>Testing set</th>\n",
              "      <td>2.25</td>\n",
              "    </tr>\n",
              "  </tbody>\n",
              "</table>\n",
              "</div>\n",
              "      <button class=\"colab-df-convert\" onclick=\"convertToInteractive('df-3dffe5c4-ba6c-4768-a36d-201165fe7200')\"\n",
              "              title=\"Convert this dataframe to an interactive table.\"\n",
              "              style=\"display:none;\">\n",
              "        \n",
              "  <svg xmlns=\"http://www.w3.org/2000/svg\" height=\"24px\"viewBox=\"0 0 24 24\"\n",
              "       width=\"24px\">\n",
              "    <path d=\"M0 0h24v24H0V0z\" fill=\"none\"/>\n",
              "    <path d=\"M18.56 5.44l.94 2.06.94-2.06 2.06-.94-2.06-.94-.94-2.06-.94 2.06-2.06.94zm-11 1L8.5 8.5l.94-2.06 2.06-.94-2.06-.94L8.5 2.5l-.94 2.06-2.06.94zm10 10l.94 2.06.94-2.06 2.06-.94-2.06-.94-.94-2.06-.94 2.06-2.06.94z\"/><path d=\"M17.41 7.96l-1.37-1.37c-.4-.4-.92-.59-1.43-.59-.52 0-1.04.2-1.43.59L10.3 9.45l-7.72 7.72c-.78.78-.78 2.05 0 2.83L4 21.41c.39.39.9.59 1.41.59.51 0 1.02-.2 1.41-.59l7.78-7.78 2.81-2.81c.8-.78.8-2.07 0-2.86zM5.41 20L4 18.59l7.72-7.72 1.47 1.35L5.41 20z\"/>\n",
              "  </svg>\n",
              "      </button>\n",
              "      \n",
              "  <style>\n",
              "    .colab-df-container {\n",
              "      display:flex;\n",
              "      flex-wrap:wrap;\n",
              "      gap: 12px;\n",
              "    }\n",
              "\n",
              "    .colab-df-convert {\n",
              "      background-color: #E8F0FE;\n",
              "      border: none;\n",
              "      border-radius: 50%;\n",
              "      cursor: pointer;\n",
              "      display: none;\n",
              "      fill: #1967D2;\n",
              "      height: 32px;\n",
              "      padding: 0 0 0 0;\n",
              "      width: 32px;\n",
              "    }\n",
              "\n",
              "    .colab-df-convert:hover {\n",
              "      background-color: #E2EBFA;\n",
              "      box-shadow: 0px 1px 2px rgba(60, 64, 67, 0.3), 0px 1px 3px 1px rgba(60, 64, 67, 0.15);\n",
              "      fill: #174EA6;\n",
              "    }\n",
              "\n",
              "    [theme=dark] .colab-df-convert {\n",
              "      background-color: #3B4455;\n",
              "      fill: #D2E3FC;\n",
              "    }\n",
              "\n",
              "    [theme=dark] .colab-df-convert:hover {\n",
              "      background-color: #434B5C;\n",
              "      box-shadow: 0px 1px 3px 1px rgba(0, 0, 0, 0.15);\n",
              "      filter: drop-shadow(0px 1px 2px rgba(0, 0, 0, 0.3));\n",
              "      fill: #FFFFFF;\n",
              "    }\n",
              "  </style>\n",
              "\n",
              "      <script>\n",
              "        const buttonEl =\n",
              "          document.querySelector('#df-3dffe5c4-ba6c-4768-a36d-201165fe7200 button.colab-df-convert');\n",
              "        buttonEl.style.display =\n",
              "          google.colab.kernel.accessAllowed ? 'block' : 'none';\n",
              "\n",
              "        async function convertToInteractive(key) {\n",
              "          const element = document.querySelector('#df-3dffe5c4-ba6c-4768-a36d-201165fe7200');\n",
              "          const dataTable =\n",
              "            await google.colab.kernel.invokeFunction('convertToInteractive',\n",
              "                                                     [key], {});\n",
              "          if (!dataTable) return;\n",
              "\n",
              "          const docLinkHtml = 'Like what you see? Visit the ' +\n",
              "            '<a target=\"_blank\" href=https://colab.research.google.com/notebooks/data_table.ipynb>data table notebook</a>'\n",
              "            + ' to learn more about interactive tables.';\n",
              "          element.innerHTML = '';\n",
              "          dataTable['output_type'] = 'display_data';\n",
              "          await google.colab.output.renderOutput(dataTable, element);\n",
              "          const docLink = document.createElement('div');\n",
              "          docLink.innerHTML = docLinkHtml;\n",
              "          element.appendChild(docLink);\n",
              "        }\n",
              "      </script>\n",
              "    </div>\n",
              "  </div>\n",
              "  "
            ]
          },
          "metadata": {},
          "execution_count": 718
        }
      ]
    },
    {
      "cell_type": "markdown",
      "source": [
        "22. What does Jim Clifton suggest about unemployment forecasting in his article  \n"
      ],
      "metadata": {
        "id": "xQdW764IgG0a"
      }
    },
    {
      "cell_type": "code",
      "source": [
        "# Clifton suggests that the official unemployment rate reported by the U.S. Department of Labor is misleading: \n",
        "# it overlooks the long-term and permanently unemployed as well as the underemployed population. \n",
        "# For example, the Department of Labor doesn’t count persons who have lost their jobs and stopped looking over for job for four weeks.\n",
        "# Besides, those who perform a minimum of one hour of work a week, that is underemployed, are not considered unemployed either.\n",
        "# Currently, the market only provides 44% of full time jobs of the adult population. \n",
        "# An additional 10 million new, good jobs is required to replenish the middle class in the US."
      ],
      "metadata": {
        "id": "PFHFrAcugL9s"
      },
      "execution_count": 719,
      "outputs": []
    },
    {
      "cell_type": "code",
      "source": [
        "# -----------------------------Below are not for extra credits, but from pure curiosity---------------------------------"
      ],
      "metadata": {
        "id": "dqNMLohcxdPR"
      },
      "execution_count": 720,
      "outputs": []
    },
    {
      "cell_type": "code",
      "source": [
        "df2prediction['M2'] = M2.fittedvalues()"
      ],
      "metadata": {
        "id": "Lbt18aOWw8Sr"
      },
      "execution_count": 721,
      "outputs": []
    },
    {
      "cell_type": "code",
      "source": [
        "df2prediction['Prediction2'] = M2.predict(start =\"2020-02-01\",end=\"2021-02-01\",dynamic=True)"
      ],
      "metadata": {
        "id": "5Q62GFRpxUE9"
      },
      "execution_count": 722,
      "outputs": []
    },
    {
      "cell_type": "code",
      "source": [
        "(\n",
        "    ggplot(df2prediction.iloc[759:,],aes('Time','UnOfUS')) + geom_point() + geom_line()+ theme(figure_size=(20,5)) + \n",
        "    geom_point(aes('Time','M2'),color='red') + geom_line(aes('Time','M2'),color='red') +       # fitted/predicted values of regression model\n",
        "    geom_point(aes('Time','Prediction2'),color='green') + geom_line(aes('Time','Prediction2'),color='green') +\n",
        "    geom_vline(xintercept = len(df2))\n",
        ")"
      ],
      "metadata": {
        "colab": {
          "base_uri": "https://localhost:8080/",
          "height": 523
        },
        "outputId": "3b6fd8f7-0258-4247-f227-7f8d4e575c7d",
        "id": "uXtxK3fVw8Sr"
      },
      "execution_count": 723,
      "outputs": [
        {
          "output_type": "stream",
          "name": "stderr",
          "text": [
            "/usr/local/lib/python3.7/dist-packages/plotnine/layer.py:401: PlotnineWarning: geom_point : Removed 12 rows containing missing values.\n",
            "/usr/local/lib/python3.7/dist-packages/plotnine/geoms/geom_path.py:75: PlotnineWarning: geom_path: Removed 12 rows containing missing values.\n",
            "/usr/local/lib/python3.7/dist-packages/plotnine/layer.py:401: PlotnineWarning: geom_point : Removed 109 rows containing missing values.\n",
            "/usr/local/lib/python3.7/dist-packages/plotnine/geoms/geom_path.py:75: PlotnineWarning: geom_path: Removed 109 rows containing missing values.\n"
          ]
        },
        {
          "output_type": "display_data",
          "data": {
            "text/plain": [
              "<Figure size 2000x500 with 1 Axes>"
            ],
            "image/png": "[encoded data removed]"
          },
          "metadata": {}
        },
        {
          "output_type": "execute_result",
          "data": {
            "text/plain": [
              "<ggplot: (8776827657601)>"
            ]
          },
          "metadata": {},
          "execution_count": 723
        }
      ]
    }
  ]
}